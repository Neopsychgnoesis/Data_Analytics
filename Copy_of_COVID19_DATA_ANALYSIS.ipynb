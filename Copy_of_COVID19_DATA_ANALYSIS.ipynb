{
  "nbformat": 4,
  "nbformat_minor": 0,
  "metadata": {
    "colab": {
      "name": "Copy of  COVID19_DATA_ANALYSIS.ipynb",
      "provenance": [],
      "collapsed_sections": [],
      "include_colab_link": true
    },
    "kernelspec": {
      "name": "python3",
      "display_name": "Python 3"
    }
  },
  "cells": [
    {
      "cell_type": "markdown",
      "metadata": {
        "id": "view-in-github",
        "colab_type": "text"
      },
      "source": [
        "<a href=\"https://colab.research.google.com/github/Neopsychgnoesis/Data_Analytics/blob/Neopsychgnoesis-patch-1/Copy_of_COVID19_DATA_ANALYSIS.ipynb\" target=\"_parent\"><img src=\"https://colab.research.google.com/assets/colab-badge.svg\" alt=\"Open In Colab\"/></a>"
      ]
    },
    {
      "cell_type": "markdown",
      "metadata": {
        "id": "9jvXpX2bbIFF"
      },
      "source": [
        "# COVID 19 Data Analysis"
      ]
    },
    {
      "cell_type": "markdown",
      "metadata": {
        "id": "RSvGZmxBa_Gk"
      },
      "source": [
        "**Description:** This script will read the latest data from the New York Times' county-level COVID-19 database at https://github.com/nytimes/covid-19-data/blob/master/us-counties.csv, filter the data for a chosen county in a chosen state, calculate the daily count of new cases and new deaths, print the most recent 28 days' worth of data for the selected county, and save the county's data for all dates to a comma-separated value (.csv) file on your computer. The printed data can be copied and pasted directly into a spreadsheet for further analysis and visualization.\r\n",
        "\r\n",
        "**Note:** For information about the data, see https://github.com/nytimes/covid-19-data.\r\n",
        "\r\n",
        "**Note:** After you have run the script one time in a given Anaconda environment, you may reduce the script's execution time by adding a `#` in front of `pip install pandas`. For example, `#pip install pandas` instead of `pip install pandas`. The `#` will tell Python to skip the code without running it."
      ]
    },
    {
      "cell_type": "markdown",
      "metadata": {
        "id": "ji_HknaobZJh"
      },
      "source": [
        "# Task 1 : Environment Set up"
      ]
    },
    {
      "cell_type": "markdown",
      "metadata": {
        "id": "q2y0bY0XbhNZ"
      },
      "source": [
        "Import all required libraries that are needed for data analysis"
      ]
    },
    {
      "cell_type": "code",
      "metadata": {
        "id": "k2f9bX3aiTDP"
      },
      "source": [
        "import pandas as pd\n",
        "import numpy as np\n",
        "import matplotlib.pyplot as plt\n",
        "from matplotlib import style\n",
        "import seaborn as sns\n",
        "import datetime as dt\n",
        "import matplotlib.dates as mdates\n"
      ],
      "execution_count": 139,
      "outputs": []
    },
    {
      "cell_type": "markdown",
      "metadata": {
        "id": "vgt8s61dbueM"
      },
      "source": [
        "# Task 2 :  Data Collection"
      ]
    },
    {
      "cell_type": "markdown",
      "metadata": {
        "id": "CEc5pqrkbxcX"
      },
      "source": [
        "Use nytimes github repository as a data source to collect the covid 19 data in real time and ingest it into colab notebook for data analysis purpose"
      ]
    },
    {
      "cell_type": "code",
      "metadata": {
        "id": "vgw9nO9Hm_SB"
      },
      "source": [
        "df = pd.read_csv('https://raw.githubusercontent.com/nytimes/covid-19-data/master/us-states.csv', parse_dates=['date'],index_col= ['date'])"
      ],
      "execution_count": 140,
      "outputs": []
    },
    {
      "cell_type": "markdown",
      "metadata": {
        "id": "dXToiyPccf4h"
      },
      "source": [
        "# Task 3 : Data Wrangling and EDA (Exploratory Data Analysis)"
      ]
    },
    {
      "cell_type": "code",
      "metadata": {
        "colab": {
          "base_uri": "https://localhost:8080/"
        },
        "id": "9u9RMgP2-Ms1",
        "outputId": "6bd48df8-bc9a-414e-a6a0-3b8c0b699697"
      },
      "source": [
        "df.columns"
      ],
      "execution_count": 141,
      "outputs": [
        {
          "output_type": "execute_result",
          "data": {
            "text/plain": [
              "Index(['state', 'fips', 'cases', 'deaths'], dtype='object')"
            ]
          },
          "metadata": {
            "tags": []
          },
          "execution_count": 141
        }
      ]
    },
    {
      "cell_type": "code",
      "metadata": {
        "colab": {
          "base_uri": "https://localhost:8080/",
          "height": 1000
        },
        "id": "QnXbo2mhH1ds",
        "outputId": "1c83130f-212e-4249-db49-9a7fca0bc950"
      },
      "source": [
        "df.groupby('state')['cases','deaths',].sum()"
      ],
      "execution_count": 142,
      "outputs": [
        {
          "output_type": "stream",
          "text": [
            "/usr/local/lib/python3.6/dist-packages/ipykernel_launcher.py:1: FutureWarning:\n",
            "\n",
            "Indexing with multiple keys (implicitly converted to a tuple of keys) will be deprecated, use a list instead.\n",
            "\n"
          ],
          "name": "stderr"
        },
        {
          "output_type": "execute_result",
          "data": {
            "text/html": [
              "<div>\n",
              "<style scoped>\n",
              "    .dataframe tbody tr th:only-of-type {\n",
              "        vertical-align: middle;\n",
              "    }\n",
              "\n",
              "    .dataframe tbody tr th {\n",
              "        vertical-align: top;\n",
              "    }\n",
              "\n",
              "    .dataframe thead th {\n",
              "        text-align: right;\n",
              "    }\n",
              "</style>\n",
              "<table border=\"1\" class=\"dataframe\">\n",
              "  <thead>\n",
              "    <tr style=\"text-align: right;\">\n",
              "      <th></th>\n",
              "      <th>cases</th>\n",
              "      <th>deaths</th>\n",
              "    </tr>\n",
              "    <tr>\n",
              "      <th>state</th>\n",
              "      <th></th>\n",
              "      <th></th>\n",
              "    </tr>\n",
              "  </thead>\n",
              "  <tbody>\n",
              "    <tr>\n",
              "      <th>Alabama</th>\n",
              "      <td>38963811</td>\n",
              "      <td>617561</td>\n",
              "    </tr>\n",
              "    <tr>\n",
              "      <th>Alaska</th>\n",
              "      <td>3695134</td>\n",
              "      <td>16773</td>\n",
              "    </tr>\n",
              "    <tr>\n",
              "      <th>Arizona</th>\n",
              "      <td>57476159</td>\n",
              "      <td>1219624</td>\n",
              "    </tr>\n",
              "    <tr>\n",
              "      <th>Arkansas</th>\n",
              "      <td>22669982</td>\n",
              "      <td>354022</td>\n",
              "    </tr>\n",
              "    <tr>\n",
              "      <th>California</th>\n",
              "      <td>220584266</td>\n",
              "      <td>3569835</td>\n",
              "    </tr>\n",
              "    <tr>\n",
              "      <th>Colorado</th>\n",
              "      <td>29541328</td>\n",
              "      <td>631507</td>\n",
              "    </tr>\n",
              "    <tr>\n",
              "      <th>Connecticut</th>\n",
              "      <td>20734768</td>\n",
              "      <td>1227641</td>\n",
              "    </tr>\n",
              "    <tr>\n",
              "      <th>Delaware</th>\n",
              "      <td>6246064</td>\n",
              "      <td>162132</td>\n",
              "    </tr>\n",
              "    <tr>\n",
              "      <th>District of Columbia</th>\n",
              "      <td>4179167</td>\n",
              "      <td>160278</td>\n",
              "    </tr>\n",
              "    <tr>\n",
              "      <th>Florida</th>\n",
              "      <td>162886247</td>\n",
              "      <td>3020476</td>\n",
              "    </tr>\n",
              "    <tr>\n",
              "      <th>Georgia</th>\n",
              "      <td>74496952</td>\n",
              "      <td>1553013</td>\n",
              "    </tr>\n",
              "    <tr>\n",
              "      <th>Guam</th>\n",
              "      <td>1011671</td>\n",
              "      <td>12547</td>\n",
              "    </tr>\n",
              "    <tr>\n",
              "      <th>Hawaii</th>\n",
              "      <td>2520695</td>\n",
              "      <td>32355</td>\n",
              "    </tr>\n",
              "    <tr>\n",
              "      <th>Idaho</th>\n",
              "      <td>13139185</td>\n",
              "      <td>135131</td>\n",
              "    </tr>\n",
              "    <tr>\n",
              "      <th>Illinois</th>\n",
              "      <td>99501547</td>\n",
              "      <td>2536348</td>\n",
              "    </tr>\n",
              "    <tr>\n",
              "      <th>Indiana</th>\n",
              "      <td>45439700</td>\n",
              "      <td>1071943</td>\n",
              "    </tr>\n",
              "    <tr>\n",
              "      <th>Iowa</th>\n",
              "      <td>28280118</td>\n",
              "      <td>405756</td>\n",
              "    </tr>\n",
              "    <tr>\n",
              "      <th>Kansas</th>\n",
              "      <td>20114474</td>\n",
              "      <td>241284</td>\n",
              "    </tr>\n",
              "    <tr>\n",
              "      <th>Kentucky</th>\n",
              "      <td>23927698</td>\n",
              "      <td>340266</td>\n",
              "    </tr>\n",
              "    <tr>\n",
              "      <th>Louisiana</th>\n",
              "      <td>40935287</td>\n",
              "      <td>1317609</td>\n",
              "    </tr>\n",
              "    <tr>\n",
              "      <th>Maine</th>\n",
              "      <td>2043024</td>\n",
              "      <td>42790</td>\n",
              "    </tr>\n",
              "    <tr>\n",
              "      <th>Maryland</th>\n",
              "      <td>34304630</td>\n",
              "      <td>1018223</td>\n",
              "    </tr>\n",
              "    <tr>\n",
              "      <th>Massachusetts</th>\n",
              "      <td>44629620</td>\n",
              "      <td>2444363</td>\n",
              "    </tr>\n",
              "    <tr>\n",
              "      <th>Michigan</th>\n",
              "      <td>51614810</td>\n",
              "      <td>2075039</td>\n",
              "    </tr>\n",
              "    <tr>\n",
              "      <th>Minnesota</th>\n",
              "      <td>37225908</td>\n",
              "      <td>628262</td>\n",
              "    </tr>\n",
              "    <tr>\n",
              "      <th>Mississippi</th>\n",
              "      <td>24503729</td>\n",
              "      <td>659997</td>\n",
              "    </tr>\n",
              "    <tr>\n",
              "      <th>Missouri</th>\n",
              "      <td>39057621</td>\n",
              "      <td>637038</td>\n",
              "    </tr>\n",
              "    <tr>\n",
              "      <th>Montana</th>\n",
              "      <td>6463907</td>\n",
              "      <td>76503</td>\n",
              "    </tr>\n",
              "    <tr>\n",
              "      <th>Nebraska</th>\n",
              "      <td>16111371</td>\n",
              "      <td>163163</td>\n",
              "    </tr>\n",
              "    <tr>\n",
              "      <th>Nevada</th>\n",
              "      <td>22457451</td>\n",
              "      <td>377876</td>\n",
              "    </tr>\n",
              "    <tr>\n",
              "      <th>New Hampshire</th>\n",
              "      <td>3589076</td>\n",
              "      <td>117394</td>\n",
              "    </tr>\n",
              "    <tr>\n",
              "      <th>New Jersey</th>\n",
              "      <td>67089512</td>\n",
              "      <td>4153559</td>\n",
              "    </tr>\n",
              "    <tr>\n",
              "      <th>New Mexico</th>\n",
              "      <td>12207829</td>\n",
              "      <td>263241</td>\n",
              "    </tr>\n",
              "    <tr>\n",
              "      <th>New York</th>\n",
              "      <td>145300950</td>\n",
              "      <td>8984830</td>\n",
              "    </tr>\n",
              "    <tr>\n",
              "      <th>North Carolina</th>\n",
              "      <td>56721735</td>\n",
              "      <td>861309</td>\n",
              "    </tr>\n",
              "    <tr>\n",
              "      <th>North Dakota</th>\n",
              "      <td>8286494</td>\n",
              "      <td>110102</td>\n",
              "    </tr>\n",
              "    <tr>\n",
              "      <th>Northern Mariana Islands</th>\n",
              "      <td>17618</td>\n",
              "      <td>578</td>\n",
              "    </tr>\n",
              "    <tr>\n",
              "      <th>Ohio</th>\n",
              "      <td>57938244</td>\n",
              "      <td>1225185</td>\n",
              "    </tr>\n",
              "    <tr>\n",
              "      <th>Oklahoma</th>\n",
              "      <td>26035654</td>\n",
              "      <td>280126</td>\n",
              "    </tr>\n",
              "    <tr>\n",
              "      <th>Oregon</th>\n",
              "      <td>10456055</td>\n",
              "      <td>156042</td>\n",
              "    </tr>\n",
              "    <tr>\n",
              "      <th>Pennsylvania</th>\n",
              "      <td>59451179</td>\n",
              "      <td>2302165</td>\n",
              "    </tr>\n",
              "    <tr>\n",
              "      <th>Puerto Rico</th>\n",
              "      <td>11698031</td>\n",
              "      <td>161944</td>\n",
              "    </tr>\n",
              "    <tr>\n",
              "      <th>Rhode Island</th>\n",
              "      <td>9013524</td>\n",
              "      <td>294543</td>\n",
              "    </tr>\n",
              "    <tr>\n",
              "      <th>South Carolina</th>\n",
              "      <td>35236913</td>\n",
              "      <td>716260</td>\n",
              "    </tr>\n",
              "    <tr>\n",
              "      <th>South Dakota</th>\n",
              "      <td>8965300</td>\n",
              "      <td>113436</td>\n",
              "    </tr>\n",
              "    <tr>\n",
              "      <th>Tennessee</th>\n",
              "      <td>54535711</td>\n",
              "      <td>669465</td>\n",
              "    </tr>\n",
              "    <tr>\n",
              "      <th>Texas</th>\n",
              "      <td>193390300</td>\n",
              "      <td>3443430</td>\n",
              "    </tr>\n",
              "    <tr>\n",
              "      <th>Utah</th>\n",
              "      <td>25134583</td>\n",
              "      <td>135045</td>\n",
              "    </tr>\n",
              "    <tr>\n",
              "      <th>Vermont</th>\n",
              "      <td>709769</td>\n",
              "      <td>19040</td>\n",
              "    </tr>\n",
              "    <tr>\n",
              "      <th>Virgin Islands</th>\n",
              "      <td>251856</td>\n",
              "      <td>3905</td>\n",
              "    </tr>\n",
              "    <tr>\n",
              "      <th>Virginia</th>\n",
              "      <td>39540759</td>\n",
              "      <td>760404</td>\n",
              "    </tr>\n",
              "    <tr>\n",
              "      <th>Washington</th>\n",
              "      <td>26598637</td>\n",
              "      <td>568664</td>\n",
              "    </tr>\n",
              "    <tr>\n",
              "      <th>West Virginia</th>\n",
              "      <td>6362942</td>\n",
              "      <td>110651</td>\n",
              "    </tr>\n",
              "    <tr>\n",
              "      <th>Wisconsin</th>\n",
              "      <td>47275187</td>\n",
              "      <td>505199</td>\n",
              "    </tr>\n",
              "    <tr>\n",
              "      <th>Wyoming</th>\n",
              "      <td>3388174</td>\n",
              "      <td>28991</td>\n",
              "    </tr>\n",
              "  </tbody>\n",
              "</table>\n",
              "</div>"
            ],
            "text/plain": [
              "                              cases   deaths\n",
              "state                                       \n",
              "Alabama                    38963811   617561\n",
              "Alaska                      3695134    16773\n",
              "Arizona                    57476159  1219624\n",
              "Arkansas                   22669982   354022\n",
              "California                220584266  3569835\n",
              "Colorado                   29541328   631507\n",
              "Connecticut                20734768  1227641\n",
              "Delaware                    6246064   162132\n",
              "District of Columbia        4179167   160278\n",
              "Florida                   162886247  3020476\n",
              "Georgia                    74496952  1553013\n",
              "Guam                        1011671    12547\n",
              "Hawaii                      2520695    32355\n",
              "Idaho                      13139185   135131\n",
              "Illinois                   99501547  2536348\n",
              "Indiana                    45439700  1071943\n",
              "Iowa                       28280118   405756\n",
              "Kansas                     20114474   241284\n",
              "Kentucky                   23927698   340266\n",
              "Louisiana                  40935287  1317609\n",
              "Maine                       2043024    42790\n",
              "Maryland                   34304630  1018223\n",
              "Massachusetts              44629620  2444363\n",
              "Michigan                   51614810  2075039\n",
              "Minnesota                  37225908   628262\n",
              "Mississippi                24503729   659997\n",
              "Missouri                   39057621   637038\n",
              "Montana                     6463907    76503\n",
              "Nebraska                   16111371   163163\n",
              "Nevada                     22457451   377876\n",
              "New Hampshire               3589076   117394\n",
              "New Jersey                 67089512  4153559\n",
              "New Mexico                 12207829   263241\n",
              "New York                  145300950  8984830\n",
              "North Carolina             56721735   861309\n",
              "North Dakota                8286494   110102\n",
              "Northern Mariana Islands      17618      578\n",
              "Ohio                       57938244  1225185\n",
              "Oklahoma                   26035654   280126\n",
              "Oregon                     10456055   156042\n",
              "Pennsylvania               59451179  2302165\n",
              "Puerto Rico                11698031   161944\n",
              "Rhode Island                9013524   294543\n",
              "South Carolina             35236913   716260\n",
              "South Dakota                8965300   113436\n",
              "Tennessee                  54535711   669465\n",
              "Texas                     193390300  3443430\n",
              "Utah                       25134583   135045\n",
              "Vermont                      709769    19040\n",
              "Virgin Islands               251856     3905\n",
              "Virginia                   39540759   760404\n",
              "Washington                 26598637   568664\n",
              "West Virginia               6362942   110651\n",
              "Wisconsin                  47275187   505199\n",
              "Wyoming                     3388174    28991"
            ]
          },
          "metadata": {
            "tags": []
          },
          "execution_count": 142
        }
      ]
    },
    {
      "cell_type": "markdown",
      "metadata": {
        "id": "XrywUhma1LD6"
      },
      "source": [
        "**1. Analyzing New York state data for Covid 19**"
      ]
    },
    {
      "cell_type": "code",
      "metadata": {
        "colab": {
          "base_uri": "https://localhost:8080/",
          "height": 455
        },
        "id": "Sh_I75xcrJyr",
        "outputId": "ba6c80a0-8535-4179-b0a6-27f360ef0dd5"
      },
      "source": [
        "df_NY=df.loc[df['state']=='New York']\n",
        "df_NY"
      ],
      "execution_count": 143,
      "outputs": [
        {
          "output_type": "execute_result",
          "data": {
            "text/html": [
              "<div>\n",
              "<style scoped>\n",
              "    .dataframe tbody tr th:only-of-type {\n",
              "        vertical-align: middle;\n",
              "    }\n",
              "\n",
              "    .dataframe tbody tr th {\n",
              "        vertical-align: top;\n",
              "    }\n",
              "\n",
              "    .dataframe thead th {\n",
              "        text-align: right;\n",
              "    }\n",
              "</style>\n",
              "<table border=\"1\" class=\"dataframe\">\n",
              "  <thead>\n",
              "    <tr style=\"text-align: right;\">\n",
              "      <th></th>\n",
              "      <th>state</th>\n",
              "      <th>fips</th>\n",
              "      <th>cases</th>\n",
              "      <th>deaths</th>\n",
              "    </tr>\n",
              "    <tr>\n",
              "      <th>date</th>\n",
              "      <th></th>\n",
              "      <th></th>\n",
              "      <th></th>\n",
              "      <th></th>\n",
              "    </tr>\n",
              "  </thead>\n",
              "  <tbody>\n",
              "    <tr>\n",
              "      <th>2020-03-01</th>\n",
              "      <td>New York</td>\n",
              "      <td>36</td>\n",
              "      <td>1</td>\n",
              "      <td>0</td>\n",
              "    </tr>\n",
              "    <tr>\n",
              "      <th>2020-03-02</th>\n",
              "      <td>New York</td>\n",
              "      <td>36</td>\n",
              "      <td>1</td>\n",
              "      <td>0</td>\n",
              "    </tr>\n",
              "    <tr>\n",
              "      <th>2020-03-03</th>\n",
              "      <td>New York</td>\n",
              "      <td>36</td>\n",
              "      <td>2</td>\n",
              "      <td>0</td>\n",
              "    </tr>\n",
              "    <tr>\n",
              "      <th>2020-03-04</th>\n",
              "      <td>New York</td>\n",
              "      <td>36</td>\n",
              "      <td>11</td>\n",
              "      <td>0</td>\n",
              "    </tr>\n",
              "    <tr>\n",
              "      <th>2020-03-05</th>\n",
              "      <td>New York</td>\n",
              "      <td>36</td>\n",
              "      <td>22</td>\n",
              "      <td>0</td>\n",
              "    </tr>\n",
              "    <tr>\n",
              "      <th>...</th>\n",
              "      <td>...</td>\n",
              "      <td>...</td>\n",
              "      <td>...</td>\n",
              "      <td>...</td>\n",
              "    </tr>\n",
              "    <tr>\n",
              "      <th>2021-01-13</th>\n",
              "      <td>New York</td>\n",
              "      <td>36</td>\n",
              "      <td>1179523</td>\n",
              "      <td>39760</td>\n",
              "    </tr>\n",
              "    <tr>\n",
              "      <th>2021-01-14</th>\n",
              "      <td>New York</td>\n",
              "      <td>36</td>\n",
              "      <td>1193710</td>\n",
              "      <td>39997</td>\n",
              "    </tr>\n",
              "    <tr>\n",
              "      <th>2021-01-15</th>\n",
              "      <td>New York</td>\n",
              "      <td>36</td>\n",
              "      <td>1213179</td>\n",
              "      <td>40203</td>\n",
              "    </tr>\n",
              "    <tr>\n",
              "      <th>2021-01-16</th>\n",
              "      <td>New York</td>\n",
              "      <td>36</td>\n",
              "      <td>1229124</td>\n",
              "      <td>40376</td>\n",
              "    </tr>\n",
              "    <tr>\n",
              "      <th>2021-01-17</th>\n",
              "      <td>New York</td>\n",
              "      <td>36</td>\n",
              "      <td>1242818</td>\n",
              "      <td>40570</td>\n",
              "    </tr>\n",
              "  </tbody>\n",
              "</table>\n",
              "<p>323 rows × 4 columns</p>\n",
              "</div>"
            ],
            "text/plain": [
              "               state  fips    cases  deaths\n",
              "date                                       \n",
              "2020-03-01  New York    36        1       0\n",
              "2020-03-02  New York    36        1       0\n",
              "2020-03-03  New York    36        2       0\n",
              "2020-03-04  New York    36       11       0\n",
              "2020-03-05  New York    36       22       0\n",
              "...              ...   ...      ...     ...\n",
              "2021-01-13  New York    36  1179523   39760\n",
              "2021-01-14  New York    36  1193710   39997\n",
              "2021-01-15  New York    36  1213179   40203\n",
              "2021-01-16  New York    36  1229124   40376\n",
              "2021-01-17  New York    36  1242818   40570\n",
              "\n",
              "[323 rows x 4 columns]"
            ]
          },
          "metadata": {
            "tags": []
          },
          "execution_count": 143
        }
      ]
    },
    {
      "cell_type": "markdown",
      "metadata": {
        "id": "vUbZP5tccvEp"
      },
      "source": [
        "**2. Find new covid 19 cases daily basis (new cases added everyday)**"
      ]
    },
    {
      "cell_type": "code",
      "metadata": {
        "id": "XNuZqUlI1096",
        "colab": {
          "base_uri": "https://localhost:8080/",
          "height": 455
        },
        "outputId": "503b671b-cc74-45e7-bd8d-c416d1802a5c"
      },
      "source": [
        "df_NY=df.loc[df['state']=='New York']\n",
        "df_NY=df_NY.drop(['fips', 'state'], axis=1)\n",
        "df_NY['new_cases']=df_NY['cases'] - df_NY['cases'].shift(1)\n",
        "df_NY['new_deaths']=df_NY['deaths'] - df_NY['deaths'].shift(1)\n",
        "df_NY['percentage_deaths']=(df_NY['deaths'] / df_NY['cases'])*100\n",
        "df_NY['new_cases'] = df_NY['new_cases'].fillna(1)\n",
        "df_NY['new_deaths'] = df_NY['new_deaths'].fillna(0)\n",
        "df_NY"
      ],
      "execution_count": 10,
      "outputs": [
        {
          "output_type": "execute_result",
          "data": {
            "text/html": [
              "<div>\n",
              "<style scoped>\n",
              "    .dataframe tbody tr th:only-of-type {\n",
              "        vertical-align: middle;\n",
              "    }\n",
              "\n",
              "    .dataframe tbody tr th {\n",
              "        vertical-align: top;\n",
              "    }\n",
              "\n",
              "    .dataframe thead th {\n",
              "        text-align: right;\n",
              "    }\n",
              "</style>\n",
              "<table border=\"1\" class=\"dataframe\">\n",
              "  <thead>\n",
              "    <tr style=\"text-align: right;\">\n",
              "      <th></th>\n",
              "      <th>cases</th>\n",
              "      <th>deaths</th>\n",
              "      <th>new_cases</th>\n",
              "      <th>new_deaths</th>\n",
              "      <th>percentage_deaths</th>\n",
              "    </tr>\n",
              "    <tr>\n",
              "      <th>date</th>\n",
              "      <th></th>\n",
              "      <th></th>\n",
              "      <th></th>\n",
              "      <th></th>\n",
              "      <th></th>\n",
              "    </tr>\n",
              "  </thead>\n",
              "  <tbody>\n",
              "    <tr>\n",
              "      <th>2020-03-01</th>\n",
              "      <td>1</td>\n",
              "      <td>0</td>\n",
              "      <td>1.0</td>\n",
              "      <td>0.0</td>\n",
              "      <td>0.000000</td>\n",
              "    </tr>\n",
              "    <tr>\n",
              "      <th>2020-03-02</th>\n",
              "      <td>1</td>\n",
              "      <td>0</td>\n",
              "      <td>0.0</td>\n",
              "      <td>0.0</td>\n",
              "      <td>0.000000</td>\n",
              "    </tr>\n",
              "    <tr>\n",
              "      <th>2020-03-03</th>\n",
              "      <td>2</td>\n",
              "      <td>0</td>\n",
              "      <td>1.0</td>\n",
              "      <td>0.0</td>\n",
              "      <td>0.000000</td>\n",
              "    </tr>\n",
              "    <tr>\n",
              "      <th>2020-03-04</th>\n",
              "      <td>11</td>\n",
              "      <td>0</td>\n",
              "      <td>9.0</td>\n",
              "      <td>0.0</td>\n",
              "      <td>0.000000</td>\n",
              "    </tr>\n",
              "    <tr>\n",
              "      <th>2020-03-05</th>\n",
              "      <td>22</td>\n",
              "      <td>0</td>\n",
              "      <td>11.0</td>\n",
              "      <td>0.0</td>\n",
              "      <td>0.000000</td>\n",
              "    </tr>\n",
              "    <tr>\n",
              "      <th>...</th>\n",
              "      <td>...</td>\n",
              "      <td>...</td>\n",
              "      <td>...</td>\n",
              "      <td>...</td>\n",
              "      <td>...</td>\n",
              "    </tr>\n",
              "    <tr>\n",
              "      <th>2021-01-13</th>\n",
              "      <td>1179523</td>\n",
              "      <td>39760</td>\n",
              "      <td>14704.0</td>\n",
              "      <td>172.0</td>\n",
              "      <td>3.370854</td>\n",
              "    </tr>\n",
              "    <tr>\n",
              "      <th>2021-01-14</th>\n",
              "      <td>1193710</td>\n",
              "      <td>39997</td>\n",
              "      <td>14187.0</td>\n",
              "      <td>237.0</td>\n",
              "      <td>3.350646</td>\n",
              "    </tr>\n",
              "    <tr>\n",
              "      <th>2021-01-15</th>\n",
              "      <td>1213179</td>\n",
              "      <td>40203</td>\n",
              "      <td>19469.0</td>\n",
              "      <td>206.0</td>\n",
              "      <td>3.313856</td>\n",
              "    </tr>\n",
              "    <tr>\n",
              "      <th>2021-01-16</th>\n",
              "      <td>1229124</td>\n",
              "      <td>40376</td>\n",
              "      <td>15945.0</td>\n",
              "      <td>173.0</td>\n",
              "      <td>3.284941</td>\n",
              "    </tr>\n",
              "    <tr>\n",
              "      <th>2021-01-17</th>\n",
              "      <td>1242818</td>\n",
              "      <td>40570</td>\n",
              "      <td>13694.0</td>\n",
              "      <td>194.0</td>\n",
              "      <td>3.264356</td>\n",
              "    </tr>\n",
              "  </tbody>\n",
              "</table>\n",
              "<p>323 rows × 5 columns</p>\n",
              "</div>"
            ],
            "text/plain": [
              "              cases  deaths  new_cases  new_deaths  percentage_deaths\n",
              "date                                                                 \n",
              "2020-03-01        1       0        1.0         0.0           0.000000\n",
              "2020-03-02        1       0        0.0         0.0           0.000000\n",
              "2020-03-03        2       0        1.0         0.0           0.000000\n",
              "2020-03-04       11       0        9.0         0.0           0.000000\n",
              "2020-03-05       22       0       11.0         0.0           0.000000\n",
              "...             ...     ...        ...         ...                ...\n",
              "2021-01-13  1179523   39760    14704.0       172.0           3.370854\n",
              "2021-01-14  1193710   39997    14187.0       237.0           3.350646\n",
              "2021-01-15  1213179   40203    19469.0       206.0           3.313856\n",
              "2021-01-16  1229124   40376    15945.0       173.0           3.284941\n",
              "2021-01-17  1242818   40570    13694.0       194.0           3.264356\n",
              "\n",
              "[323 rows x 5 columns]"
            ]
          },
          "metadata": {
            "tags": []
          },
          "execution_count": 10
        }
      ]
    },
    {
      "cell_type": "code",
      "metadata": {
        "id": "TNYs0GNm4K5O",
        "colab": {
          "base_uri": "https://localhost:8080/",
          "height": 297
        },
        "outputId": "aadcecd5-6913-4662-94a6-016df7878897"
      },
      "source": [
        "df_NY.describe() #322 days / 46 weeks"
      ],
      "execution_count": null,
      "outputs": [
        {
          "output_type": "execute_result",
          "data": {
            "text/html": [
              "<div>\n",
              "<style scoped>\n",
              "    .dataframe tbody tr th:only-of-type {\n",
              "        vertical-align: middle;\n",
              "    }\n",
              "\n",
              "    .dataframe tbody tr th {\n",
              "        vertical-align: top;\n",
              "    }\n",
              "\n",
              "    .dataframe thead th {\n",
              "        text-align: right;\n",
              "    }\n",
              "</style>\n",
              "<table border=\"1\" class=\"dataframe\">\n",
              "  <thead>\n",
              "    <tr style=\"text-align: right;\">\n",
              "      <th></th>\n",
              "      <th>cases</th>\n",
              "      <th>deaths</th>\n",
              "      <th>new_cases</th>\n",
              "      <th>new_deaths</th>\n",
              "      <th>percentage_deaths</th>\n",
              "    </tr>\n",
              "  </thead>\n",
              "  <tbody>\n",
              "    <tr>\n",
              "      <th>count</th>\n",
              "      <td>3.220000e+02</td>\n",
              "      <td>322.000000</td>\n",
              "      <td>322.000000</td>\n",
              "      <td>322.000000</td>\n",
              "      <td>322.000000</td>\n",
              "    </tr>\n",
              "    <tr>\n",
              "      <th>mean</th>\n",
              "      <td>4.473855e+05</td>\n",
              "      <td>27777.204969</td>\n",
              "      <td>3817.155280</td>\n",
              "      <td>125.391304</td>\n",
              "      <td>6.105752</td>\n",
              "    </tr>\n",
              "    <tr>\n",
              "      <th>std</th>\n",
              "      <td>2.507278e+05</td>\n",
              "      <td>10954.840363</td>\n",
              "      <td>4441.875571</td>\n",
              "      <td>221.592556</td>\n",
              "      <td>2.220109</td>\n",
              "    </tr>\n",
              "    <tr>\n",
              "      <th>min</th>\n",
              "      <td>1.000000e+00</td>\n",
              "      <td>0.000000</td>\n",
              "      <td>0.000000</td>\n",
              "      <td>-102.000000</td>\n",
              "      <td>0.000000</td>\n",
              "    </tr>\n",
              "    <tr>\n",
              "      <th>25%</th>\n",
              "      <td>3.597545e+05</td>\n",
              "      <td>28570.750000</td>\n",
              "      <td>711.250000</td>\n",
              "      <td>10.250000</td>\n",
              "      <td>5.004158</td>\n",
              "    </tr>\n",
              "    <tr>\n",
              "      <th>50%</th>\n",
              "      <td>4.253115e+05</td>\n",
              "      <td>32394.500000</td>\n",
              "      <td>1456.000000</td>\n",
              "      <td>31.000000</td>\n",
              "      <td>7.122842</td>\n",
              "    </tr>\n",
              "    <tr>\n",
              "      <th>75%</th>\n",
              "      <td>5.049088e+05</td>\n",
              "      <td>33103.250000</td>\n",
              "      <td>6003.750000</td>\n",
              "      <td>130.750000</td>\n",
              "      <td>7.763003</td>\n",
              "    </tr>\n",
              "    <tr>\n",
              "      <th>max</th>\n",
              "      <td>1.229124e+06</td>\n",
              "      <td>40376.000000</td>\n",
              "      <td>19560.000000</td>\n",
              "      <td>1036.000000</td>\n",
              "      <td>7.981072</td>\n",
              "    </tr>\n",
              "  </tbody>\n",
              "</table>\n",
              "</div>"
            ],
            "text/plain": [
              "              cases        deaths     new_cases   new_deaths  percentage_deaths\n",
              "count  3.220000e+02    322.000000    322.000000   322.000000         322.000000\n",
              "mean   4.473855e+05  27777.204969   3817.155280   125.391304           6.105752\n",
              "std    2.507278e+05  10954.840363   4441.875571   221.592556           2.220109\n",
              "min    1.000000e+00      0.000000      0.000000  -102.000000           0.000000\n",
              "25%    3.597545e+05  28570.750000    711.250000    10.250000           5.004158\n",
              "50%    4.253115e+05  32394.500000   1456.000000    31.000000           7.122842\n",
              "75%    5.049088e+05  33103.250000   6003.750000   130.750000           7.763003\n",
              "max    1.229124e+06  40376.000000  19560.000000  1036.000000           7.981072"
            ]
          },
          "metadata": {
            "tags": []
          },
          "execution_count": 35
        }
      ]
    },
    {
      "cell_type": "code",
      "metadata": {
        "id": "yKryzOu25uDi",
        "colab": {
          "base_uri": "https://localhost:8080/",
          "height": 781
        },
        "outputId": "cd7f6e55-eaeb-468f-ec2e-0592f48fee6d"
      },
      "source": [
        "fig, ax = plt.subplots(figsize=(12, 12))\n",
        "ax.bar(df_NY.index.values,\n",
        "       df_NY['cases'])\n",
        "ax.set(xlabel=\"Date\",\n",
        "       ylabel=\"Cases (Thousands)\",\n",
        "       title=\"Total Cases in NY\")\n"
      ],
      "execution_count": null,
      "outputs": [
        {
          "output_type": "execute_result",
          "data": {
            "text/plain": [
              "[Text(0, 0.5, 'Cases (Thousands)'),\n",
              " Text(0.5, 0, 'Date'),\n",
              " Text(0.5, 1.0, 'Total Cases in NY')]"
            ]
          },
          "metadata": {
            "tags": []
          },
          "execution_count": 60
        },
        {
          "output_type": "display_data",
          "data": {
            "image/png": "[encoded data removed]",
            "text/plain": [
              "<Figure size 864x864 with 1 Axes>"
            ]
          },
          "metadata": {
            "tags": [],
            "needs_background": "light"
          }
        }
      ]
    },
    {
      "cell_type": "code",
      "metadata": {
        "colab": {
          "base_uri": "https://localhost:8080/",
          "height": 781
        },
        "id": "NqcqsqhBYmZe",
        "outputId": "3b1dc9b3-f870-4afb-dc98-03b5cbc41277"
      },
      "source": [
        "fig, ax1 = plt.subplots(figsize=(12, 12))\n",
        "ax1.bar(df_NY.index.values,\n",
        "       df_NY['deaths'], \n",
        "        color='red')\n",
        "ax1.set(xlabel=\"Date\",\n",
        "       ylabel=\"Deaths \",\n",
        "       title=\"Total Deaths in NY\" \n",
        "        )\n"
      ],
      "execution_count": null,
      "outputs": [
        {
          "output_type": "execute_result",
          "data": {
            "text/plain": [
              "[Text(0, 0.5, 'Deaths '),\n",
              " Text(0.5, 0, 'Date'),\n",
              " Text(0.5, 1.0, 'Total Deaths in NY')]"
            ]
          },
          "metadata": {
            "tags": []
          },
          "execution_count": 71
        },
        {
          "output_type": "display_data",
          "data": {
            "image/png": "[encoded data removed]",
            "text/plain": [
              "<Figure size 864x864 with 1 Axes>"
            ]
          },
          "metadata": {
            "tags": [],
            "needs_background": "light"
          }
        }
      ]
    },
    {
      "cell_type": "code",
      "metadata": {
        "id": "xSjQW7Gm8_cO",
        "colab": {
          "base_uri": "https://localhost:8080/",
          "height": 747
        },
        "outputId": "0d70aeab-cb19-4bf3-fc50-9911f2e2e673"
      },
      "source": [
        "fig, ax2 = plt.subplots(figsize=(12, 12))\n",
        "ax2.bar(df_NY.index.values,\n",
        "       df_NY['new_cases'])\n",
        "ax2.set(xlabel=\"Date\",\n",
        "       ylabel=\"New cases\",\n",
        "       title=\"New Cases\")"
      ],
      "execution_count": null,
      "outputs": [
        {
          "output_type": "execute_result",
          "data": {
            "text/plain": [
              "[Text(0, 0.5, 'New cases'), Text(0.5, 0, 'Date'), Text(0.5, 1.0, 'New Cases')]"
            ]
          },
          "metadata": {
            "tags": []
          },
          "execution_count": 72
        },
        {
          "output_type": "display_data",
          "data": {
            "image/png": "[encoded data removed]",
            "text/plain": [
              "<Figure size 864x864 with 1 Axes>"
            ]
          },
          "metadata": {
            "tags": [],
            "needs_background": "light"
          }
        }
      ]
    },
    {
      "cell_type": "code",
      "metadata": {
        "colab": {
          "base_uri": "https://localhost:8080/",
          "height": 781
        },
        "id": "oQdj0i1QZyCh",
        "outputId": "1cb9fa6a-51ce-4a90-af8f-4cf956cd9300"
      },
      "source": [
        "fig, ax2 = plt.subplots(figsize=(12, 12))\n",
        "ax2.bar(df_NY.index.values,\n",
        "       df_NY['new_deaths'],\n",
        "        color='red')\n",
        "ax2.set(xlabel=\"Date\",\n",
        "       ylabel=\"New deaths\",\n",
        "       title=\"New Deaths\")"
      ],
      "execution_count": null,
      "outputs": [
        {
          "output_type": "execute_result",
          "data": {
            "text/plain": [
              "[Text(0, 0.5, 'New deaths'),\n",
              " Text(0.5, 0, 'Date'),\n",
              " Text(0.5, 1.0, 'New Deaths')]"
            ]
          },
          "metadata": {
            "tags": []
          },
          "execution_count": 73
        },
        {
          "output_type": "display_data",
          "data": {
            "image/png": "[encoded data removed]",
            "text/plain": [
              "<Figure size 864x864 with 1 Axes>"
            ]
          },
          "metadata": {
            "tags": [],
            "needs_background": "light"
          }
        }
      ]
    },
    {
      "cell_type": "markdown",
      "metadata": {
        "id": "IKuLfv3SF27O"
      },
      "source": [
        "# Task4: Understand NY covid 19 data in last 30 days"
      ]
    },
    {
      "cell_type": "code",
      "metadata": {
        "id": "280y4sHrAyuk",
        "colab": {
          "base_uri": "https://localhost:8080/",
          "height": 1000
        },
        "outputId": "b99cf13e-2913-4ed6-cf15-b136c4ab952e"
      },
      "source": [
        "df_NY_last_30= df_NY.loc['2020-12-16':'2021-01-16']\n",
        "df_NY_last_30\n"
      ],
      "execution_count": null,
      "outputs": [
        {
          "output_type": "execute_result",
          "data": {
            "text/html": [
              "<div>\n",
              "<style scoped>\n",
              "    .dataframe tbody tr th:only-of-type {\n",
              "        vertical-align: middle;\n",
              "    }\n",
              "\n",
              "    .dataframe tbody tr th {\n",
              "        vertical-align: top;\n",
              "    }\n",
              "\n",
              "    .dataframe thead th {\n",
              "        text-align: right;\n",
              "    }\n",
              "</style>\n",
              "<table border=\"1\" class=\"dataframe\">\n",
              "  <thead>\n",
              "    <tr style=\"text-align: right;\">\n",
              "      <th></th>\n",
              "      <th>cases</th>\n",
              "      <th>deaths</th>\n",
              "      <th>new_cases</th>\n",
              "      <th>new_deaths</th>\n",
              "      <th>percentage_deaths</th>\n",
              "    </tr>\n",
              "    <tr>\n",
              "      <th>date</th>\n",
              "      <th></th>\n",
              "      <th></th>\n",
              "      <th></th>\n",
              "      <th></th>\n",
              "      <th></th>\n",
              "    </tr>\n",
              "  </thead>\n",
              "  <tbody>\n",
              "    <tr>\n",
              "      <th>2020-12-16</th>\n",
              "      <td>808929</td>\n",
              "      <td>35522</td>\n",
              "      <td>9378.0</td>\n",
              "      <td>97.0</td>\n",
              "      <td>4.391238</td>\n",
              "    </tr>\n",
              "    <tr>\n",
              "      <th>2020-12-17</th>\n",
              "      <td>819427</td>\n",
              "      <td>35647</td>\n",
              "      <td>10498.0</td>\n",
              "      <td>125.0</td>\n",
              "      <td>4.350235</td>\n",
              "    </tr>\n",
              "    <tr>\n",
              "      <th>2020-12-18</th>\n",
              "      <td>832033</td>\n",
              "      <td>35775</td>\n",
              "      <td>12606.0</td>\n",
              "      <td>128.0</td>\n",
              "      <td>4.299709</td>\n",
              "    </tr>\n",
              "    <tr>\n",
              "      <th>2020-12-19</th>\n",
              "      <td>841946</td>\n",
              "      <td>35897</td>\n",
              "      <td>9913.0</td>\n",
              "      <td>122.0</td>\n",
              "      <td>4.263575</td>\n",
              "    </tr>\n",
              "    <tr>\n",
              "      <th>2020-12-20</th>\n",
              "      <td>851400</td>\n",
              "      <td>36017</td>\n",
              "      <td>9454.0</td>\n",
              "      <td>120.0</td>\n",
              "      <td>4.230327</td>\n",
              "    </tr>\n",
              "    <tr>\n",
              "      <th>2020-12-21</th>\n",
              "      <td>860856</td>\n",
              "      <td>36147</td>\n",
              "      <td>9456.0</td>\n",
              "      <td>130.0</td>\n",
              "      <td>4.198960</td>\n",
              "    </tr>\n",
              "    <tr>\n",
              "      <th>2020-12-22</th>\n",
              "      <td>871155</td>\n",
              "      <td>36300</td>\n",
              "      <td>10299.0</td>\n",
              "      <td>153.0</td>\n",
              "      <td>4.166882</td>\n",
              "    </tr>\n",
              "    <tr>\n",
              "      <th>2020-12-23</th>\n",
              "      <td>882895</td>\n",
              "      <td>36454</td>\n",
              "      <td>11740.0</td>\n",
              "      <td>154.0</td>\n",
              "      <td>4.128917</td>\n",
              "    </tr>\n",
              "    <tr>\n",
              "      <th>2020-12-24</th>\n",
              "      <td>896242</td>\n",
              "      <td>36604</td>\n",
              "      <td>13347.0</td>\n",
              "      <td>150.0</td>\n",
              "      <td>4.084165</td>\n",
              "    </tr>\n",
              "    <tr>\n",
              "      <th>2020-12-25</th>\n",
              "      <td>909123</td>\n",
              "      <td>36739</td>\n",
              "      <td>12881.0</td>\n",
              "      <td>135.0</td>\n",
              "      <td>4.041147</td>\n",
              "    </tr>\n",
              "    <tr>\n",
              "      <th>2020-12-26</th>\n",
              "      <td>920171</td>\n",
              "      <td>36870</td>\n",
              "      <td>11048.0</td>\n",
              "      <td>131.0</td>\n",
              "      <td>4.006864</td>\n",
              "    </tr>\n",
              "    <tr>\n",
              "      <th>2020-12-27</th>\n",
              "      <td>928376</td>\n",
              "      <td>37000</td>\n",
              "      <td>8205.0</td>\n",
              "      <td>130.0</td>\n",
              "      <td>3.985454</td>\n",
              "    </tr>\n",
              "    <tr>\n",
              "      <th>2020-12-28</th>\n",
              "      <td>938710</td>\n",
              "      <td>37118</td>\n",
              "      <td>10334.0</td>\n",
              "      <td>118.0</td>\n",
              "      <td>3.954150</td>\n",
              "    </tr>\n",
              "    <tr>\n",
              "      <th>2020-12-29</th>\n",
              "      <td>950730</td>\n",
              "      <td>37256</td>\n",
              "      <td>12020.0</td>\n",
              "      <td>138.0</td>\n",
              "      <td>3.918673</td>\n",
              "    </tr>\n",
              "    <tr>\n",
              "      <th>2020-12-30</th>\n",
              "      <td>963647</td>\n",
              "      <td>37412</td>\n",
              "      <td>12917.0</td>\n",
              "      <td>156.0</td>\n",
              "      <td>3.882335</td>\n",
              "    </tr>\n",
              "    <tr>\n",
              "      <th>2020-12-31</th>\n",
              "      <td>979040</td>\n",
              "      <td>37557</td>\n",
              "      <td>15393.0</td>\n",
              "      <td>145.0</td>\n",
              "      <td>3.836105</td>\n",
              "    </tr>\n",
              "    <tr>\n",
              "      <th>2021-01-01</th>\n",
              "      <td>996073</td>\n",
              "      <td>37733</td>\n",
              "      <td>17033.0</td>\n",
              "      <td>176.0</td>\n",
              "      <td>3.788176</td>\n",
              "    </tr>\n",
              "    <tr>\n",
              "      <th>2021-01-02</th>\n",
              "      <td>1011922</td>\n",
              "      <td>37854</td>\n",
              "      <td>15849.0</td>\n",
              "      <td>121.0</td>\n",
              "      <td>3.740802</td>\n",
              "    </tr>\n",
              "    <tr>\n",
              "      <th>2021-01-03</th>\n",
              "      <td>1024154</td>\n",
              "      <td>38001</td>\n",
              "      <td>12232.0</td>\n",
              "      <td>147.0</td>\n",
              "      <td>3.710477</td>\n",
              "    </tr>\n",
              "    <tr>\n",
              "      <th>2021-01-04</th>\n",
              "      <td>1035396</td>\n",
              "      <td>38167</td>\n",
              "      <td>11242.0</td>\n",
              "      <td>166.0</td>\n",
              "      <td>3.686222</td>\n",
              "    </tr>\n",
              "    <tr>\n",
              "      <th>2021-01-05</th>\n",
              "      <td>1048538</td>\n",
              "      <td>38315</td>\n",
              "      <td>13142.0</td>\n",
              "      <td>148.0</td>\n",
              "      <td>3.654136</td>\n",
              "    </tr>\n",
              "    <tr>\n",
              "      <th>2021-01-06</th>\n",
              "      <td>1064554</td>\n",
              "      <td>38486</td>\n",
              "      <td>16016.0</td>\n",
              "      <td>171.0</td>\n",
              "      <td>3.615223</td>\n",
              "    </tr>\n",
              "    <tr>\n",
              "      <th>2021-01-07</th>\n",
              "      <td>1082142</td>\n",
              "      <td>38683</td>\n",
              "      <td>17588.0</td>\n",
              "      <td>197.0</td>\n",
              "      <td>3.574669</td>\n",
              "    </tr>\n",
              "    <tr>\n",
              "      <th>2021-01-08</th>\n",
              "      <td>1101702</td>\n",
              "      <td>38846</td>\n",
              "      <td>19560.0</td>\n",
              "      <td>163.0</td>\n",
              "      <td>3.525999</td>\n",
              "    </tr>\n",
              "    <tr>\n",
              "      <th>2021-01-09</th>\n",
              "      <td>1119541</td>\n",
              "      <td>39041</td>\n",
              "      <td>17839.0</td>\n",
              "      <td>195.0</td>\n",
              "      <td>3.487233</td>\n",
              "    </tr>\n",
              "    <tr>\n",
              "      <th>2021-01-10</th>\n",
              "      <td>1135849</td>\n",
              "      <td>39208</td>\n",
              "      <td>16308.0</td>\n",
              "      <td>167.0</td>\n",
              "      <td>3.451867</td>\n",
              "    </tr>\n",
              "    <tr>\n",
              "      <th>2021-01-11</th>\n",
              "      <td>1150028</td>\n",
              "      <td>39404</td>\n",
              "      <td>14179.0</td>\n",
              "      <td>196.0</td>\n",
              "      <td>3.426351</td>\n",
              "    </tr>\n",
              "    <tr>\n",
              "      <th>2021-01-12</th>\n",
              "      <td>1164819</td>\n",
              "      <td>39588</td>\n",
              "      <td>14791.0</td>\n",
              "      <td>184.0</td>\n",
              "      <td>3.398640</td>\n",
              "    </tr>\n",
              "    <tr>\n",
              "      <th>2021-01-13</th>\n",
              "      <td>1179523</td>\n",
              "      <td>39760</td>\n",
              "      <td>14704.0</td>\n",
              "      <td>172.0</td>\n",
              "      <td>3.370854</td>\n",
              "    </tr>\n",
              "    <tr>\n",
              "      <th>2021-01-14</th>\n",
              "      <td>1193710</td>\n",
              "      <td>39997</td>\n",
              "      <td>14187.0</td>\n",
              "      <td>237.0</td>\n",
              "      <td>3.350646</td>\n",
              "    </tr>\n",
              "    <tr>\n",
              "      <th>2021-01-15</th>\n",
              "      <td>1213179</td>\n",
              "      <td>40203</td>\n",
              "      <td>19469.0</td>\n",
              "      <td>206.0</td>\n",
              "      <td>3.313856</td>\n",
              "    </tr>\n",
              "    <tr>\n",
              "      <th>2021-01-16</th>\n",
              "      <td>1229124</td>\n",
              "      <td>40376</td>\n",
              "      <td>15945.0</td>\n",
              "      <td>173.0</td>\n",
              "      <td>3.284941</td>\n",
              "    </tr>\n",
              "  </tbody>\n",
              "</table>\n",
              "</div>"
            ],
            "text/plain": [
              "              cases  deaths  new_cases  new_deaths  percentage_deaths\n",
              "date                                                                 \n",
              "2020-12-16   808929   35522     9378.0        97.0           4.391238\n",
              "2020-12-17   819427   35647    10498.0       125.0           4.350235\n",
              "2020-12-18   832033   35775    12606.0       128.0           4.299709\n",
              "2020-12-19   841946   35897     9913.0       122.0           4.263575\n",
              "2020-12-20   851400   36017     9454.0       120.0           4.230327\n",
              "2020-12-21   860856   36147     9456.0       130.0           4.198960\n",
              "2020-12-22   871155   36300    10299.0       153.0           4.166882\n",
              "2020-12-23   882895   36454    11740.0       154.0           4.128917\n",
              "2020-12-24   896242   36604    13347.0       150.0           4.084165\n",
              "2020-12-25   909123   36739    12881.0       135.0           4.041147\n",
              "2020-12-26   920171   36870    11048.0       131.0           4.006864\n",
              "2020-12-27   928376   37000     8205.0       130.0           3.985454\n",
              "2020-12-28   938710   37118    10334.0       118.0           3.954150\n",
              "2020-12-29   950730   37256    12020.0       138.0           3.918673\n",
              "2020-12-30   963647   37412    12917.0       156.0           3.882335\n",
              "2020-12-31   979040   37557    15393.0       145.0           3.836105\n",
              "2021-01-01   996073   37733    17033.0       176.0           3.788176\n",
              "2021-01-02  1011922   37854    15849.0       121.0           3.740802\n",
              "2021-01-03  1024154   38001    12232.0       147.0           3.710477\n",
              "2021-01-04  1035396   38167    11242.0       166.0           3.686222\n",
              "2021-01-05  1048538   38315    13142.0       148.0           3.654136\n",
              "2021-01-06  1064554   38486    16016.0       171.0           3.615223\n",
              "2021-01-07  1082142   38683    17588.0       197.0           3.574669\n",
              "2021-01-08  1101702   38846    19560.0       163.0           3.525999\n",
              "2021-01-09  1119541   39041    17839.0       195.0           3.487233\n",
              "2021-01-10  1135849   39208    16308.0       167.0           3.451867\n",
              "2021-01-11  1150028   39404    14179.0       196.0           3.426351\n",
              "2021-01-12  1164819   39588    14791.0       184.0           3.398640\n",
              "2021-01-13  1179523   39760    14704.0       172.0           3.370854\n",
              "2021-01-14  1193710   39997    14187.0       237.0           3.350646\n",
              "2021-01-15  1213179   40203    19469.0       206.0           3.313856\n",
              "2021-01-16  1229124   40376    15945.0       173.0           3.284941"
            ]
          },
          "metadata": {
            "tags": []
          },
          "execution_count": 81
        }
      ]
    },
    {
      "cell_type": "markdown",
      "metadata": {
        "id": "PtjNZZmOdAhy"
      },
      "source": [
        "# Task5: Comparing Covid 19 data with different states"
      ]
    },
    {
      "cell_type": "markdown",
      "metadata": {
        "id": "HInHQMh0dHvu"
      },
      "source": [
        "**Let's compare the Covid 19 cases after July for states: New York, California, Florida, Texas, Arizona**"
      ]
    },
    {
      "cell_type": "code",
      "metadata": {
        "id": "vu_eV2RmHvyO",
        "colab": {
          "base_uri": "https://localhost:8080/",
          "height": 600
        },
        "outputId": "c1bc67d7-ccfa-44b5-d5b6-bda6aca3cfcb"
      },
      "source": [
        "states = ['New York', 'California', 'Florida', 'Texas', 'Arizona']\r\n",
        "for state in states:\r\n",
        "  df_states_for_covid1 = df[(df['state'] == state) & (df['state'] >= '2020-07-01')]\r\n",
        "  plt.plot(df_states_for_covid1['date'], df_states_for_covid1['cases'])\r\n",
        "\r\n",
        "  #plt.xticks(rotation =90)\r\n",
        "plt.legend(states)\r\n",
        "plt.show()"
      ],
      "execution_count": 169,
      "outputs": [
        {
          "output_type": "error",
          "ename": "KeyError",
          "evalue": "ignored",
          "traceback": [
            "\u001b[0;31m---------------------------------------------------------------------------\u001b[0m",
            "\u001b[0;31mKeyError\u001b[0m                                  Traceback (most recent call last)",
            "\u001b[0;32m/usr/local/lib/python3.6/dist-packages/pandas/core/indexes/base.py\u001b[0m in \u001b[0;36mget_loc\u001b[0;34m(self, key, method, tolerance)\u001b[0m\n\u001b[1;32m   2897\u001b[0m             \u001b[0;32mtry\u001b[0m\u001b[0;34m:\u001b[0m\u001b[0;34m\u001b[0m\u001b[0;34m\u001b[0m\u001b[0m\n\u001b[0;32m-> 2898\u001b[0;31m                 \u001b[0;32mreturn\u001b[0m \u001b[0mself\u001b[0m\u001b[0;34m.\u001b[0m\u001b[0m_engine\u001b[0m\u001b[0;34m.\u001b[0m\u001b[0mget_loc\u001b[0m\u001b[0;34m(\u001b[0m\u001b[0mcasted_key\u001b[0m\u001b[0;34m)\u001b[0m\u001b[0;34m\u001b[0m\u001b[0;34m\u001b[0m\u001b[0m\n\u001b[0m\u001b[1;32m   2899\u001b[0m             \u001b[0;32mexcept\u001b[0m \u001b[0mKeyError\u001b[0m \u001b[0;32mas\u001b[0m \u001b[0merr\u001b[0m\u001b[0;34m:\u001b[0m\u001b[0;34m\u001b[0m\u001b[0;34m\u001b[0m\u001b[0m\n",
            "\u001b[0;32mpandas/_libs/index.pyx\u001b[0m in \u001b[0;36mpandas._libs.index.IndexEngine.get_loc\u001b[0;34m()\u001b[0m\n",
            "\u001b[0;32mpandas/_libs/index.pyx\u001b[0m in \u001b[0;36mpandas._libs.index.IndexEngine.get_loc\u001b[0;34m()\u001b[0m\n",
            "\u001b[0;32mpandas/_libs/hashtable_class_helper.pxi\u001b[0m in \u001b[0;36mpandas._libs.hashtable.PyObjectHashTable.get_item\u001b[0;34m()\u001b[0m\n",
            "\u001b[0;32mpandas/_libs/hashtable_class_helper.pxi\u001b[0m in \u001b[0;36mpandas._libs.hashtable.PyObjectHashTable.get_item\u001b[0;34m()\u001b[0m\n",
            "\u001b[0;31mKeyError\u001b[0m: 'date'",
            "\nThe above exception was the direct cause of the following exception:\n",
            "\u001b[0;31mKeyError\u001b[0m                                  Traceback (most recent call last)",
            "\u001b[0;32m<ipython-input-169-1c1711c28646>\u001b[0m in \u001b[0;36m<module>\u001b[0;34m()\u001b[0m\n\u001b[1;32m      2\u001b[0m \u001b[0;32mfor\u001b[0m \u001b[0mstate\u001b[0m \u001b[0;32min\u001b[0m \u001b[0mstates\u001b[0m\u001b[0;34m:\u001b[0m\u001b[0;34m\u001b[0m\u001b[0;34m\u001b[0m\u001b[0m\n\u001b[1;32m      3\u001b[0m   \u001b[0mdf_states_for_covid1\u001b[0m \u001b[0;34m=\u001b[0m \u001b[0mdf\u001b[0m\u001b[0;34m[\u001b[0m\u001b[0;34m(\u001b[0m\u001b[0mdf\u001b[0m\u001b[0;34m[\u001b[0m\u001b[0;34m'state'\u001b[0m\u001b[0;34m]\u001b[0m \u001b[0;34m==\u001b[0m \u001b[0mstate\u001b[0m\u001b[0;34m)\u001b[0m \u001b[0;34m&\u001b[0m \u001b[0;34m(\u001b[0m\u001b[0mdf\u001b[0m\u001b[0;34m[\u001b[0m\u001b[0;34m'state'\u001b[0m\u001b[0;34m]\u001b[0m \u001b[0;34m>=\u001b[0m \u001b[0;34m'2020-07-01'\u001b[0m\u001b[0;34m)\u001b[0m\u001b[0;34m]\u001b[0m\u001b[0;34m\u001b[0m\u001b[0;34m\u001b[0m\u001b[0m\n\u001b[0;32m----> 4\u001b[0;31m   \u001b[0mplt\u001b[0m\u001b[0;34m.\u001b[0m\u001b[0mplot\u001b[0m\u001b[0;34m(\u001b[0m\u001b[0mdf_states_for_covid1\u001b[0m\u001b[0;34m[\u001b[0m\u001b[0;34m'date'\u001b[0m\u001b[0;34m]\u001b[0m\u001b[0;34m,\u001b[0m \u001b[0mdf_states_for_covid1\u001b[0m\u001b[0;34m[\u001b[0m\u001b[0;34m'cases'\u001b[0m\u001b[0;34m]\u001b[0m\u001b[0;34m)\u001b[0m\u001b[0;34m\u001b[0m\u001b[0;34m\u001b[0m\u001b[0m\n\u001b[0m\u001b[1;32m      5\u001b[0m \u001b[0;34m\u001b[0m\u001b[0m\n\u001b[1;32m      6\u001b[0m   \u001b[0;31m#plt.xticks(rotation =90)\u001b[0m\u001b[0;34m\u001b[0m\u001b[0;34m\u001b[0m\u001b[0;34m\u001b[0m\u001b[0m\n",
            "\u001b[0;32m/usr/local/lib/python3.6/dist-packages/pandas/core/frame.py\u001b[0m in \u001b[0;36m__getitem__\u001b[0;34m(self, key)\u001b[0m\n\u001b[1;32m   2904\u001b[0m             \u001b[0;32mif\u001b[0m \u001b[0mself\u001b[0m\u001b[0;34m.\u001b[0m\u001b[0mcolumns\u001b[0m\u001b[0;34m.\u001b[0m\u001b[0mnlevels\u001b[0m \u001b[0;34m>\u001b[0m \u001b[0;36m1\u001b[0m\u001b[0;34m:\u001b[0m\u001b[0;34m\u001b[0m\u001b[0;34m\u001b[0m\u001b[0m\n\u001b[1;32m   2905\u001b[0m                 \u001b[0;32mreturn\u001b[0m \u001b[0mself\u001b[0m\u001b[0;34m.\u001b[0m\u001b[0m_getitem_multilevel\u001b[0m\u001b[0;34m(\u001b[0m\u001b[0mkey\u001b[0m\u001b[0;34m)\u001b[0m\u001b[0;34m\u001b[0m\u001b[0;34m\u001b[0m\u001b[0m\n\u001b[0;32m-> 2906\u001b[0;31m             \u001b[0mindexer\u001b[0m \u001b[0;34m=\u001b[0m \u001b[0mself\u001b[0m\u001b[0;34m.\u001b[0m\u001b[0mcolumns\u001b[0m\u001b[0;34m.\u001b[0m\u001b[0mget_loc\u001b[0m\u001b[0;34m(\u001b[0m\u001b[0mkey\u001b[0m\u001b[0;34m)\u001b[0m\u001b[0;34m\u001b[0m\u001b[0;34m\u001b[0m\u001b[0m\n\u001b[0m\u001b[1;32m   2907\u001b[0m             \u001b[0;32mif\u001b[0m \u001b[0mis_integer\u001b[0m\u001b[0;34m(\u001b[0m\u001b[0mindexer\u001b[0m\u001b[0;34m)\u001b[0m\u001b[0;34m:\u001b[0m\u001b[0;34m\u001b[0m\u001b[0;34m\u001b[0m\u001b[0m\n\u001b[1;32m   2908\u001b[0m                 \u001b[0mindexer\u001b[0m \u001b[0;34m=\u001b[0m \u001b[0;34m[\u001b[0m\u001b[0mindexer\u001b[0m\u001b[0;34m]\u001b[0m\u001b[0;34m\u001b[0m\u001b[0;34m\u001b[0m\u001b[0m\n",
            "\u001b[0;32m/usr/local/lib/python3.6/dist-packages/pandas/core/indexes/base.py\u001b[0m in \u001b[0;36mget_loc\u001b[0;34m(self, key, method, tolerance)\u001b[0m\n\u001b[1;32m   2898\u001b[0m                 \u001b[0;32mreturn\u001b[0m \u001b[0mself\u001b[0m\u001b[0;34m.\u001b[0m\u001b[0m_engine\u001b[0m\u001b[0;34m.\u001b[0m\u001b[0mget_loc\u001b[0m\u001b[0;34m(\u001b[0m\u001b[0mcasted_key\u001b[0m\u001b[0;34m)\u001b[0m\u001b[0;34m\u001b[0m\u001b[0;34m\u001b[0m\u001b[0m\n\u001b[1;32m   2899\u001b[0m             \u001b[0;32mexcept\u001b[0m \u001b[0mKeyError\u001b[0m \u001b[0;32mas\u001b[0m \u001b[0merr\u001b[0m\u001b[0;34m:\u001b[0m\u001b[0;34m\u001b[0m\u001b[0;34m\u001b[0m\u001b[0m\n\u001b[0;32m-> 2900\u001b[0;31m                 \u001b[0;32mraise\u001b[0m \u001b[0mKeyError\u001b[0m\u001b[0;34m(\u001b[0m\u001b[0mkey\u001b[0m\u001b[0;34m)\u001b[0m \u001b[0;32mfrom\u001b[0m \u001b[0merr\u001b[0m\u001b[0;34m\u001b[0m\u001b[0;34m\u001b[0m\u001b[0m\n\u001b[0m\u001b[1;32m   2901\u001b[0m \u001b[0;34m\u001b[0m\u001b[0m\n\u001b[1;32m   2902\u001b[0m         \u001b[0;32mif\u001b[0m \u001b[0mtolerance\u001b[0m \u001b[0;32mis\u001b[0m \u001b[0;32mnot\u001b[0m \u001b[0;32mNone\u001b[0m\u001b[0;34m:\u001b[0m\u001b[0;34m\u001b[0m\u001b[0;34m\u001b[0m\u001b[0m\n",
            "\u001b[0;31mKeyError\u001b[0m: 'date'"
          ]
        }
      ]
    },
    {
      "cell_type": "markdown",
      "metadata": {
        "id": "Hwch-J5PIHA1"
      },
      "source": [
        "# Task6: Conclusion"
      ]
    },
    {
      "cell_type": "markdown",
      "metadata": {
        "id": "q5G5KP6CINBS"
      },
      "source": [
        "Below are the conclusions:\r\n",
        "\r\n",
        "\r\n",
        "\r\n",
        "1.   Conclusion 1\r\n",
        "     --The peak of death rates happened during the month of April 2020.\r\n",
        "2.   Conclusion 2\r\n",
        "     --Many new cases were increasingly reported during December2020 and into January2021.\r\n",
        "\r\n"
      ]
    }
  ]
}