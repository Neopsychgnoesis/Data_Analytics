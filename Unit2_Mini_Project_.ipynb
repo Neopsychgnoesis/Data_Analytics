{
  "nbformat": 4,
  "nbformat_minor": 0,
  "metadata": {
    "colab": {
      "name": "Unit2_Mini_Project .ipynb",
      "provenance": [],
      "collapsed_sections": []
    },
    "kernelspec": {
      "name": "python3",
      "display_name": "Python 3"
    }
  },
  "cells": [
    {
      "cell_type": "code",
      "metadata": {
        "id": "9OlMnZVTPGBQ"
      },
      "source": [
        "def is_even(num):\r\n",
        "  if num %2 == 0:\r\n",
        "    return True\r\n",
        "num=int(input(\"Enter number:\"))\r\n",
        "if num % 4 == 0 and num % 2 == 0:\r\n",
        "  print (\"This is even and a multiple of 4\")\r\n",
        "elif num % 2 == 0:\r\n",
        "  print (\"The number is even\", num)\r\n",
        "  print (\"The number is odd\", num)\r\n",
        "num = input('Please enter a number: ')\r\n",
        "check = input('Please enter a number to divide by: ')\r\n",
        "if int(num) % int(check) == 0:\r\n",
        "  print('The number you entered: ' + num + ' divides evenly by :' + check)\r\n",
        "else:\r\n",
        "  print('The number you entered: ' + num + ' does not divide evenly by :' + check)\r\n"
      ],
      "execution_count": null,
      "outputs": []
    }
  ]
}