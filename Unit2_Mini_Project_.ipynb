{
  "nbformat": 4,
  "nbformat_minor": 0,
  "metadata": {
    "colab": {
      "name": "Unit2_Mini_Project .ipynb",
      "provenance": [],
      "collapsed_sections": [],
      "include_colab_link": true
    },
    "kernelspec": {
      "name": "python3",
      "display_name": "Python 3"
    }
  },
  "cells": [
    {
      "cell_type": "markdown",
      "metadata": {
        "id": "view-in-github",
        "colab_type": "text"
      },
      "source": [
        "<a href=\"https://colab.research.google.com/github/Neopsychgnoesis/Data_Analytics/blob/Neopsychgnoesis-patch-1/Unit2_Mini_Project_.ipynb\" target=\"_parent\"><img src=\"https://colab.research.google.com/assets/colab-badge.svg\" alt=\"Open In Colab\"/></a>"
      ]
    },
    {
      "cell_type": "code",
      "metadata": {
        "id": "9OlMnZVTPGBQ"
      },
      "source": [
        "def is_even(num):\r\n",
        "  if num %2 == 0:\r\n",
        "    return True\r\n",
        "num=int(input(\"Enter number:\"))\r\n",
        "if num % 4 == 0 and num % 2 == 0:\r\n",
        "  print (\"This is even and a multiple of 4\")\r\n",
        "elif num % 2 == 0:\r\n",
        "  print (\"The number is even\", num)\r\n",
        "  print (\"The number is odd\", num)\r\n",
        "num = input('Please enter a number: ')\r\n",
        "check = input('Please enter a number to divide by: ')\r\n",
        "if int(num) % int(check) == 0:\r\n",
        "  print('The number you entered: ' + num + ' divides evenly by :' + check)\r\n",
        "else:\r\n",
        "  print('The number you entered: ' + num + ' does not divide evenly by :' + check)\r\n"
      ],
      "execution_count": null,
      "outputs": []
    }
  ]
}