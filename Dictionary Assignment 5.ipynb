{
  "nbformat": 4,
  "nbformat_minor": 0,
  "metadata": {
    "colab": {
      "name": "Dictionary Assignment 5.ipynb",
      "provenance": [],
      "collapsed_sections": [],
      "toc_visible": true,
      "include_colab_link": true
    },
    "kernelspec": {
      "name": "python3",
      "display_name": "Python 3"
    }
  },
  "cells": [
    {
      "cell_type": "markdown",
      "metadata": {
        "id": "view-in-github",
        "colab_type": "text"
      },
      "source": [
        "<a href=\"https://colab.research.google.com/github/Neopsychgnoesis/Data_Analytics/blob/Neopsychgnoesis-patch-1/Dictionary%20Assignment%205.ipynb\" target=\"_parent\"><img src=\"https://colab.research.google.com/assets/colab-badge.svg\" alt=\"Open In Colab\"/></a>"
      ]
    },
    {
      "cell_type": "markdown",
      "metadata": {
        "id": "Vgs8Kp4TidFQ"
      },
      "source": [
        "# Intrdouction to Python - Dictionary - Assignment #5 "
      ]
    },
    {
      "cell_type": "markdown",
      "metadata": {
        "id": "_Hq7Ny79iwgD"
      },
      "source": [
        "## 1.\tCreate a simple dictionary that stores 2 variables, for example: first and last name."
      ]
    },
    {
      "cell_type": "code",
      "metadata": {
        "id": "lotvpVpvlKsR"
      },
      "source": [
        "patient_1 = {'firstname':\"John\",'lastname':\"Kimble\"}"
      ],
      "execution_count": null,
      "outputs": []
    },
    {
      "cell_type": "markdown",
      "metadata": {
        "id": "io_27RSlizno"
      },
      "source": [
        "## 2.\tPrint out those variables stored in your previous dictionary. "
      ]
    },
    {
      "cell_type": "code",
      "metadata": {
        "id": "Dh1o5cAylSHB",
        "colab": {
          "base_uri": "https://localhost:8080/"
        },
        "outputId": "6281987c-97e1-4779-c76b-1b29cb58f349"
      },
      "source": [
        "patient_1 = {'firstname':\"John\",'lastname':\"Kimble\"}\r\n",
        "\r\n",
        "print(patient_1['firstname'])\r\n",
        "print(patient_1['lastname'])\r\n"
      ],
      "execution_count": null,
      "outputs": [
        {
          "output_type": "stream",
          "text": [
            "John\n",
            "Kimble\n"
          ],
          "name": "stdout"
        }
      ]
    },
    {
      "cell_type": "markdown",
      "metadata": {
        "id": "DAW8m8IQjRyR"
      },
      "source": [
        "## 3.\tAdd a message to those variables on printing: for example: “Hello, firstname lastname!”"
      ]
    },
    {
      "cell_type": "code",
      "metadata": {
        "id": "guULMEhrjYtT",
        "colab": {
          "base_uri": "https://localhost:8080/"
        },
        "outputId": "41484104-2f50-49bc-974b-35d0995e837f"
      },
      "source": [
        "patient_1 = {'firstname':\"John\",'lastname':\"Kimble\"}\r\n",
        "\r\n",
        "print(\"Good afternoon,\" + patient_1['firstname'] + \" \" + patient_1['lastname'])"
      ],
      "execution_count": null,
      "outputs": [
        {
          "output_type": "stream",
          "text": [
            "Good afternoon,John Kimble\n"
          ],
          "name": "stdout"
        }
      ]
    },
    {
      "cell_type": "markdown",
      "metadata": {
        "id": "dpa_YOt4jXyo"
      },
      "source": [
        "## 4.\tCreate a dictionary that holds 2 key: value pairs:\r\n",
        "\r\n",
        "a.\tLook through your dictionary and print each pair,\r\n"
      ]
    },
    {
      "cell_type": "code",
      "metadata": {
        "colab": {
          "base_uri": "https://localhost:8080/"
        },
        "id": "EkbBZ9nRhSvM",
        "outputId": "58045c5c-090f-4426-f092-0315ffabe666"
      },
      "source": [
        "terminology = {\r\n",
        "    'range' : 'refers to the minimum and maximum values',\r\n",
        "    'frequency' : 'indicates the number of occurences of a data value',\r\n",
        "  \r\n",
        "    }\r\n",
        "\r\n",
        "for key,value in terminology.items():\r\n",
        "  print(\"\\nKey: \" +key)\r\n",
        "  print(\"\\nValue: \" +value)"
      ],
      "execution_count": 1,
      "outputs": [
        {
          "output_type": "stream",
          "text": [
            "\n",
            "Key: range\n",
            "\n",
            "Value: refers to the minimum and maximum values\n",
            "\n",
            "Key: frequency\n",
            "\n",
            "Value: indicates the number of occurences of a data value\n"
          ],
          "name": "stdout"
        }
      ]
    }
  ]
}