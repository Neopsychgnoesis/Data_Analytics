{
  "nbformat": 4,
  "nbformat_minor": 0,
  "metadata": {
    "colab": {
      "name": "Untitled2.ipynb",
      "provenance": []
    },
    "kernelspec": {
      "name": "python3",
      "display_name": "Python 3"
    }
  },
  "cells": [
    {
      "cell_type": "code",
      "metadata": {
        "colab": {
          "base_uri": "https://localhost:8080/"
        },
        "id": "ElsZaklGwLtx",
        "outputId": "37afb5f3-a840-44f3-fa3c-11d24dc05599"
      },
      "source": [
        "friends = ['Jonathan' , 'Benjamin', 'Steven']\r\n",
        "print (friends)\r\n",
        "print (friends[0])\r\n",
        "print (friends[1])\r\n",
        "print (friends[2])\r\n",
        "\r\n",
        "message = \"Long time no see, \" + friends[1]\r\n",
        "print(message + friends[1])"
      ],
      "execution_count": 12,
      "outputs": [
        {
          "output_type": "stream",
          "text": [
            "['Jonathan', 'Benjamin', 'Steven']\n",
            "Jonathan\n",
            "Benjamin\n",
            "Steven\n",
            "Long time no see, BenjaminBenjamin\n"
          ],
          "name": "stdout"
        }
      ]
    },
    {
      "cell_type": "code",
      "metadata": {
        "colab": {
          "base_uri": "https://localhost:8080/"
        },
        "id": "yVZwuGQNz5j_",
        "outputId": "de10029f-721f-4e1d-8505-14ce1c1d583d"
      },
      "source": [
        "friends = ['Jonathan', 'Benjamin', 'Steven']\r\n",
        "friends[1] = \"J5\"\r\n",
        "print(friends)\r\n",
        "friendsnew = ['Chloe', 'Matthew']\r\n",
        "friends.append(['Chloe' , 'Matthew'])\r\n",
        "print(friends)"
      ],
      "execution_count": 22,
      "outputs": [
        {
          "output_type": "stream",
          "text": [
            "['Jonathan', 'J5', 'Steven']\n",
            "['Jonathan', 'J5', 'Steven', ['Chloe', 'Matthew']]\n"
          ],
          "name": "stdout"
        }
      ]
    },
    {
      "cell_type": "code",
      "metadata": {
        "colab": {
          "base_uri": "https://localhost:8080/"
        },
        "id": "iq13zKFY2h0n",
        "outputId": "ab89c5af-6d00-40e7-a7bf-0c9e0a94d81c"
      },
      "source": [
        "friends = ['Jonathan', 'Benjamin', 'Steven']\r\n",
        "print(friends)\r\n",
        "del friends[1]\r\n",
        "print((friends))"
      ],
      "execution_count": 26,
      "outputs": [
        {
          "output_type": "stream",
          "text": [
            "['Jonathan', 'Benjamin', 'Steven']\n",
            "['Jonathan', 'Steven']\n"
          ],
          "name": "stdout"
        }
      ]
    },
    {
      "cell_type": "code",
      "metadata": {
        "colab": {
          "base_uri": "https://localhost:8080/"
        },
        "id": "AGOyIW-D4Hb5",
        "outputId": "70c8db32-6cf9-4556-9ea0-41077739a2c6"
      },
      "source": [
        "friends = ['Jonathan', 'Benjamin', 'Steven']\r\n",
        "print(friends)\r\n",
        "friends.remove(\"Jonathan\") \r\n",
        "print(friends)"
      ],
      "execution_count": 28,
      "outputs": [
        {
          "output_type": "stream",
          "text": [
            "['Jonathan', 'Benjamin', 'Steven']\n",
            "['Benjamin', 'Steven']\n"
          ],
          "name": "stdout"
        }
      ]
    },
    {
      "cell_type": "code",
      "metadata": {
        "colab": {
          "base_uri": "https://localhost:8080/"
        },
        "id": "Frli_knR53ji",
        "outputId": "5fb48b0b-ff6c-445e-f53c-380b83bf1897"
      },
      "source": [
        "foodordered = [\"Pizza w/pepperoni\", \"Beef patty\", \"Stromboli\"]\r\n",
        "print(foodordered)\r\n",
        "foodordered.append(\"Veggie Patty\")\r\n",
        "print(foodordered)\r\n",
        "foodordered.insert(2,\"Lemonade\")\r\n",
        "print(foodordered)"
      ],
      "execution_count": 35,
      "outputs": [
        {
          "output_type": "stream",
          "text": [
            "['Pizza w/pepperoni', 'Beef patty', 'Stromboli']\n",
            "['Pizza w/pepperoni', 'Beef patty', 'Stromboli', 'Veggie Patty']\n",
            "['Pizza w/pepperoni', 'Beef patty', 'Lemonade', 'Stromboli', 'Veggie Patty']\n"
          ],
          "name": "stdout"
        }
      ]
    },
    {
      "cell_type": "code",
      "metadata": {
        "colab": {
          "base_uri": "https://localhost:8080/"
        },
        "id": "zjTaJqic6wq7",
        "outputId": "1384db42-5040-4409-a02f-a92f5dc9ede5"
      },
      "source": [
        "print(foodordered)\r\n",
        "foodordered.sort()\r\n",
        "print(foodordered)\r\n",
        "foodordered.sort(reverse=True)\r\n",
        "print(foodordered)\r\n",
        "len(foodordered)\r\n",
        "print(sorted(foodordered))\r\n",
        "print(foodordered)\r\n"
      ],
      "execution_count": 46,
      "outputs": [
        {
          "output_type": "stream",
          "text": [
            "['Veggie Patty', 'Stromboli', 'Pizza w/pepperoni', 'Lemonade', 'Beef patty']\n",
            "['Beef patty', 'Lemonade', 'Pizza w/pepperoni', 'Stromboli', 'Veggie Patty']\n",
            "['Veggie Patty', 'Stromboli', 'Pizza w/pepperoni', 'Lemonade', 'Beef patty']\n",
            "['Beef patty', 'Lemonade', 'Pizza w/pepperoni', 'Stromboli', 'Veggie Patty']\n",
            "['Veggie Patty', 'Stromboli', 'Pizza w/pepperoni', 'Lemonade', 'Beef patty']\n"
          ],
          "name": "stdout"
        }
      ]
    },
    {
      "cell_type": "code",
      "metadata": {
        "colab": {
          "base_uri": "https://localhost:8080/"
        },
        "id": "0GpG0scM8cdu",
        "outputId": "05a673cb-e9d5-4e35-c40d-3e3079ff48fa"
      },
      "source": [
        "destinations = [\"Miami\", \"Bora Bora\", \"Amsterdam\", \"Las Vegas\",\"Panama\"]\r\n",
        "destinations.sort()\r\n",
        "print(destinations)\r\n",
        "destinations.sort(reverse=True)\r\n",
        "print(destinations)\r\n",
        "len(destinations)\r\n",
        "print(sorted(destinations))\r\n",
        "print(destinations)"
      ],
      "execution_count": 45,
      "outputs": [
        {
          "output_type": "stream",
          "text": [
            "['Amsterdam', 'Bora Bora', 'Las Vegas', 'Miami', 'Panama']\n",
            "['Panama', 'Miami', 'Las Vegas', 'Bora Bora', 'Amsterdam']\n",
            "['Amsterdam', 'Bora Bora', 'Las Vegas', 'Miami', 'Panama']\n",
            "['Panama', 'Miami', 'Las Vegas', 'Bora Bora', 'Amsterdam']\n"
          ],
          "name": "stdout"
        }
      ]
    }
  ]
}