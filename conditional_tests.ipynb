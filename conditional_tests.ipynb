{
  "nbformat": 4,
  "nbformat_minor": 0,
  "metadata": {
    "colab": {
      "name": "conditional tests",
      "provenance": [],
      "collapsed_sections": [],
      "authorship_tag": "ABX9TyPqiGG145OCW1Yy3ZkQQ6L+",
      "include_colab_link": true
    },
    "kernelspec": {
      "name": "python3",
      "display_name": "Python 3"
    }
  },
  "cells": [
    {
      "cell_type": "markdown",
      "metadata": {
        "id": "view-in-github",
        "colab_type": "text"
      },
      "source": [
        "<a href=\"https://colab.research.google.com/github/Neopsychgnoesis/Data_Analytics/blob/Neopsychgnoesis-patch-1/conditional_tests.ipynb\" target=\"_parent\"><img src=\"https://colab.research.google.com/assets/colab-badge.svg\" alt=\"Open In Colab\"/></a>"
      ]
    },
    {
      "cell_type": "code",
      "metadata": {
        "colab": {
          "base_uri": "https://localhost:8080/"
        },
        "id": "kksMNEj_ew5U",
        "outputId": "42e7a6e3-d5ff-4b7e-ccbe-d21943c74213"
      },
      "source": [
        "motorcycles = ['ducati', 'bmw', 'yamaha', 'honda']\r\n",
        "\r\n",
        "for bike in motorcycles:\r\n",
        "  if bike != 'ducati':\r\n",
        "    print(bike.upper())\r\n",
        "  else:\r\n",
        "      print(bike.lower())"
      ],
      "execution_count": null,
      "outputs": [
        {
          "output_type": "stream",
          "text": [
            "ducati\n",
            "BMW\n",
            "YAMAHA\n",
            "HONDA\n"
          ],
          "name": "stdout"
        }
      ]
    },
    {
      "cell_type": "code",
      "metadata": {
        "colab": {
          "base_uri": "https://localhost:8080/"
        },
        "id": "UFP5SoSTfrhh",
        "outputId": "0b4d7f45-0f4d-4753-8e90-94c2017b813f"
      },
      "source": [
        "patient_exam = 'echo'\r\n",
        "\r\n",
        "if patient_exam != 'ecg':\r\n",
        "  print('incorrect exam!')"
      ],
      "execution_count": null,
      "outputs": [
        {
          "output_type": "stream",
          "text": [
            "incorrect exam!\n"
          ],
          "name": "stdout"
        }
      ]
    },
    {
      "cell_type": "code",
      "metadata": {
        "colab": {
          "base_uri": "https://localhost:8080/"
        },
        "id": "T_zgxwVCim6f",
        "outputId": "8acb6ff8-75bb-48f4-b8c4-15fabcb2c5e9"
      },
      "source": [
        "readmit_days_after_discharge = 29\r\n",
        "if readmit_days_after_discharge < 30:\r\n",
        "  print(\"Patient was readmitted within 30 days \")"
      ],
      "execution_count": null,
      "outputs": [
        {
          "output_type": "stream",
          "text": [
            "Patient was readmitted within 30 days \n"
          ],
          "name": "stdout"
        }
      ]
    },
    {
      "cell_type": "code",
      "metadata": {
        "colab": {
          "base_uri": "https://localhost:8080/"
        },
        "id": "XktYkMlAifal",
        "outputId": "34a81cfa-7f7a-49f7-95a6-81a04ca70ab4"
      },
      "source": [
        "studentA_age = 21\r\n",
        "if studentA_age < 24: \r\n",
        "  print(\"hello\")\r\n",
        "else: \r\n",
        "  print(\"Bye\")"
      ],
      "execution_count": null,
      "outputs": [
        {
          "output_type": "stream",
          "text": [
            "hello\n"
          ],
          "name": "stdout"
        }
      ]
    },
    {
      "cell_type": "code",
      "metadata": {
        "id": "lrgUIKgCv8QV"
      },
      "source": [
        "car1_maxspeed = 209\r\n",
        "if car1_maxspeed > 210:\r\n",
        "  print(\"true\")"
      ],
      "execution_count": null,
      "outputs": []
    },
    {
      "cell_type": "code",
      "metadata": {
        "colab": {
          "base_uri": "https://localhost:8080/"
        },
        "id": "50zgnGlByMsU",
        "outputId": "2ad020b4-1412-49fe-923a-261d651ad2fa"
      },
      "source": [
        "DataClublist = ['Admin', 'Amy', 'Lucy', 'Anna', 'Nadia']\r\n",
        "print(DataClublist)\r\n",
        "for members in DataClublist:\r\n",
        "  print(members.title() + \" Welcome to Data analytics!\\n I enjoy learning with \" + members.upper() + \" all winter long.\\n\")\r\n",
        "\r\n"
      ],
      "execution_count": null,
      "outputs": [
        {
          "output_type": "stream",
          "text": [
            "['Admin', 'Amy', 'Lucy', 'Anna', 'Nadia']\n",
            "Admin Welcome to Data analytics!\n",
            " I enjoy learning with ADMIN all winter long.\n",
            "\n",
            "Amy Welcome to Data analytics!\n",
            " I enjoy learning with AMY all winter long.\n",
            "\n",
            "Lucy Welcome to Data analytics!\n",
            " I enjoy learning with LUCY all winter long.\n",
            "\n",
            "Anna Welcome to Data analytics!\n",
            " I enjoy learning with ANNA all winter long.\n",
            "\n",
            "Nadia Welcome to Data analytics!\n",
            " I enjoy learning with NADIA all winter long.\n",
            "\n"
          ],
          "name": "stdout"
        }
      ]
    },
    {
      "cell_type": "code",
      "metadata": {
        "id": "eVk0ACgbZm8q"
      },
      "source": [
        ""
      ],
      "execution_count": null,
      "outputs": []
    },
    {
      "cell_type": "code",
      "metadata": {
        "colab": {
          "base_uri": "https://localhost:8080/"
        },
        "id": "LSkF06xB2RpI",
        "outputId": "f9c817af-a34f-4831-f50e-c8f9dd665388"
      },
      "source": [
        "DataClublist = ['Admin', 'Amy', 'Lucy', 'Anna', 'Nadia']\r\n",
        "print(DataClublist)\r\n",
        "for members in DataClublist:\r\n",
        "  print(members.title() + \" Welcome to Data analytics!\\n I enjoy learning with \" + members.upper() + \" all winter long.\\n\")\r\n",
        "  if members == 'Admin':\r\n",
        "    print(\"Greetings Commander!\")\r\n",
        "  if members != 'Admin':\r\n",
        "    print(\"Welcome back!\")"
      ],
      "execution_count": null,
      "outputs": [
        {
          "output_type": "stream",
          "text": [
            "['Admin', 'Amy', 'Lucy', 'Anna', 'Nadia']\n",
            "Admin Welcome to Data analytics!\n",
            " I enjoy learning with ADMIN all winter long.\n",
            "\n",
            "Greetings Commander!\n",
            "Amy Welcome to Data analytics!\n",
            " I enjoy learning with AMY all winter long.\n",
            "\n",
            "Welcome back!\n",
            "Lucy Welcome to Data analytics!\n",
            " I enjoy learning with LUCY all winter long.\n",
            "\n",
            "Welcome back!\n",
            "Anna Welcome to Data analytics!\n",
            " I enjoy learning with ANNA all winter long.\n",
            "\n",
            "Welcome back!\n",
            "Nadia Welcome to Data analytics!\n",
            " I enjoy learning with NADIA all winter long.\n",
            "\n",
            "Welcome back!\n"
          ],
          "name": "stdout"
        }
      ]
    }
  ]
}