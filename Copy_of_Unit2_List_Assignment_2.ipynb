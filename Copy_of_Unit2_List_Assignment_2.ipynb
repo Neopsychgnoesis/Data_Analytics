{
  "nbformat": 4,
  "nbformat_minor": 0,
  "metadata": {
    "colab": {
      "name": "Copy of Unit2_List_Assignment_2.ipynb",
      "provenance": [],
      "collapsed_sections": [],
      "toc_visible": true,
      "include_colab_link": true
    },
    "kernelspec": {
      "name": "python3",
      "display_name": "Python 3"
    }
  },
  "cells": [
    {
      "cell_type": "markdown",
      "metadata": {
        "id": "view-in-github",
        "colab_type": "text"
      },
      "source": [
        "<a href=\"https://colab.research.google.com/github/Neopsychgnoesis/Data_Analytics/blob/Neopsychgnoesis-patch-1/Copy_of_Unit2_List_Assignment_2.ipynb\" target=\"_parent\"><img src=\"https://colab.research.google.com/assets/colab-badge.svg\" alt=\"Open In Colab\"/></a>"
      ]
    },
    {
      "cell_type": "markdown",
      "metadata": {
        "id": "Vgs8Kp4TidFQ"
      },
      "source": [
        " Introduction to Python - List - Assignment #2  "
      ]
    },
    {
      "cell_type": "markdown",
      "metadata": {
        "id": "_Hq7Ny79iwgD"
      },
      "source": [
        "## 1.Create a list of 5 of your favorite tv shows.  ?"
      ]
    },
    {
      "cell_type": "code",
      "metadata": {
        "id": "lotvpVpvlKsR"
      },
      "source": [
        "tvshows = ['X-Files', 'Rick and Morty', 'Dexters Laboratory', 'Dragonball Z', 'Lexx']"
      ],
      "execution_count": null,
      "outputs": []
    },
    {
      "cell_type": "markdown",
      "metadata": {
        "id": "io_27RSlizno"
      },
      "source": [
        "## 2.\tPrint the list in its original order"
      ]
    },
    {
      "cell_type": "code",
      "metadata": {
        "id": "Dh1o5cAylSHB",
        "colab": {
          "base_uri": "https://localhost:8080/"
        },
        "outputId": "ce21ec7f-ad45-45fb-b570-e1ff7ef51ef8"
      },
      "source": [
        "tvshows = ['X-Files', 'Rick and Morty', 'Dexters Laboratory', 'Dragonball Z', 'Lexx']\r\n",
        "print(tvshows)"
      ],
      "execution_count": null,
      "outputs": [
        {
          "output_type": "stream",
          "text": [
            "['X-Files', 'Rick and Morty', 'Dexters Laboratory', 'Dragonball Z', 'Lexx']\n"
          ],
          "name": "stdout"
        }
      ]
    },
    {
      "cell_type": "markdown",
      "metadata": {
        "id": "DAW8m8IQjRyR"
      },
      "source": [
        "## 3.\tUse the sorted() function to print the list in alphabetical order.  How is sorted() different from sort()?"
      ]
    },
    {
      "cell_type": "code",
      "metadata": {
        "id": "guULMEhrjYtT",
        "colab": {
          "base_uri": "https://localhost:8080/",
          "height": 109
        },
        "outputId": "4c60b298-b456-4c99-9ca3-546e7f220553"
      },
      "source": [
        "tvshows = ['X-Files', 'Rick and Morty', 'Dexters Laboratory', 'Dragonball Z', 'Lexx']\r\n",
        "print(tvshows)\r\n",
        "print(sorted(tvshows))\r\n",
        "tvshows.sort()\r\n",
        "print(tvshows)\r\n",
        "\"The difference is that I can alphabetically sort and print the variables with just one line of code instead of two lines of code when using sorted()function.\""
      ],
      "execution_count": 1,
      "outputs": [
        {
          "output_type": "stream",
          "text": [
            "['X-Files', 'Rick and Morty', 'Dexters Laboratory', 'Dragonball Z', 'Lexx']\n",
            "['Dexters Laboratory', 'Dragonball Z', 'Lexx', 'Rick and Morty', 'X-Files']\n",
            "['Dexters Laboratory', 'Dragonball Z', 'Lexx', 'Rick and Morty', 'X-Files']\n"
          ],
          "name": "stdout"
        },
        {
          "output_type": "execute_result",
          "data": {
            "application/vnd.google.colaboratory.intrinsic+json": {
              "type": "string"
            },
            "text/plain": [
              "'The difference is that I can alphabetically sort and print the variables with just one line of code instead of two lines of code when using sorted()function.'"
            ]
          },
          "metadata": {
            "tags": []
          },
          "execution_count": 1
        }
      ]
    },
    {
      "cell_type": "markdown",
      "metadata": {
        "id": "dpa_YOt4jXyo"
      },
      "source": [
        "## 4.\tPrint out your original list."
      ]
    },
    {
      "cell_type": "code",
      "metadata": {
        "colab": {
          "base_uri": "https://localhost:8080/"
        },
        "id": "hqoe-3mN1zxW",
        "outputId": "a1728b9a-b237-49ee-c881-eccf552b1add"
      },
      "source": [
        "tvshows = ['X-Files', 'Rick and Morty', 'Dexters Laboratory', 'Dragonball Z', 'Lexx']\r\n",
        "print(tvshows)"
      ],
      "execution_count": null,
      "outputs": [
        {
          "output_type": "stream",
          "text": [
            "['X-Files', 'Rick and Morty', 'Dexters Laboratory', 'Dragonball Z', 'Lexx']\n"
          ],
          "name": "stdout"
        }
      ]
    },
    {
      "cell_type": "markdown",
      "metadata": {
        "id": "Ka84RGy4jmLT"
      },
      "source": [
        "## 5.\tUsed sorted() to print your list in reverse alphabetical order."
      ]
    },
    {
      "cell_type": "code",
      "metadata": {
        "colab": {
          "base_uri": "https://localhost:8080/"
        },
        "id": "BPXcEEsN1-RN",
        "outputId": "1a445e74-58f9-4c30-88f2-59d776a0c2aa"
      },
      "source": [
        "tvshows = ['X-Files', 'Rick and Morty', 'Dexters Laboratory', 'Dragonball Z', 'Lexx']\r\n",
        "tvshows.sort(reverse=True)\r\n",
        "print(tvshows)"
      ],
      "execution_count": null,
      "outputs": [
        {
          "output_type": "stream",
          "text": [
            "['X-Files', 'Rick and Morty', 'Lexx', 'Dragonball Z', 'Dexters Laboratory']\n"
          ],
          "name": "stdout"
        }
      ]
    },
    {
      "cell_type": "markdown",
      "metadata": {
        "id": "ZKHwdMnLliFy"
      },
      "source": [
        "## 6.\tCreate a message indicating how many favorite TV shows you have – use the len() function."
      ]
    },
    {
      "cell_type": "code",
      "metadata": {
        "id": "eXUDZfLOllTT",
        "colab": {
          "base_uri": "https://localhost:8080/"
        },
        "outputId": "9f63f529-f2dd-4c25-c97f-87eb34a012cf"
      },
      "source": [
        "print(tvshows)\r\n",
        "len(tvshows)"
      ],
      "execution_count": null,
      "outputs": [
        {
          "output_type": "stream",
          "text": [
            "['X-Files', 'Rick and Morty', 'Lexx', 'Dragonball Z', 'Dexters Laboratory']\n"
          ],
          "name": "stdout"
        },
        {
          "output_type": "execute_result",
          "data": {
            "text/plain": [
              "5"
            ]
          },
          "metadata": {
            "tags": []
          },
          "execution_count": 30
        }
      ]
    }
  ]
}