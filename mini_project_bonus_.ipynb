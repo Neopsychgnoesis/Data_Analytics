{
  "nbformat": 4,
  "nbformat_minor": 0,
  "metadata": {
    "colab": {
      "name": "mini project bonus .ipynb",
      "provenance": [],
      "collapsed_sections": [],
      "authorship_tag": "ABX9TyP9Vu3bqvaiVWkGhIlFKoPf",
      "include_colab_link": true
    },
    "kernelspec": {
      "name": "python3",
      "display_name": "Python 3"
    }
  },
  "cells": [
    {
      "cell_type": "markdown",
      "metadata": {
        "id": "view-in-github",
        "colab_type": "text"
      },
      "source": [
        "<a href=\"https://colab.research.google.com/github/Neopsychgnoesis/Data_Analytics/blob/Neopsychgnoesis-patch-1/mini_project_bonus_.ipynb\" target=\"_parent\"><img src=\"https://colab.research.google.com/assets/colab-badge.svg\" alt=\"Open In Colab\"/></a>"
      ]
    },
    {
      "cell_type": "code",
      "metadata": {
        "id": "sMQBWyD6mPmM"
      },
      "source": [
        "def main():\r\n",
        "    import sys\r\n",
        "    user1 = input(\"What's your name?\")\r\n",
        "    user2 = input(\"And your name?\")\r\n",
        "    user1_answer = input(\"%s, do yo want to choose rock, paper or scissors?\" % user1)\r\n",
        "    user2_answer = input(\"%s, do you want to choose rock, paper or scissors?\" % user2)\r\n",
        "    \r\n",
        "    def compare(u1, u2):\r\n",
        "        if u1 == u2:\r\n",
        "            return(\"It's a tie!\")\r\n",
        "        elif u1 == 'rock':\r\n",
        "            if u2 == 'scissors':\r\n",
        "                return(\"Rock wins!\")\r\n",
        "            else:\r\n",
        "                return(\"Paper wins!\")\r\n",
        "        elif u1 == 'scissors':\r\n",
        "            if u2 == 'paper':\r\n",
        "                return(\"Scissors win!\")\r\n",
        "            else:\r\n",
        "                return(\"Rock wins!\")\r\n",
        "        elif u1 == 'paper':\r\n",
        "            if u2 == 'rock':\r\n",
        "                return(\"Paper wins!\")\r\n",
        "            else:\r\n",
        "                return(\"Scissors win!\")\r\n",
        "        else:\r\n",
        "            return(\"Invalid input! You have not entered rock, paper or scissors, try again.\")\r\n",
        "            sys.exit()\r\n",
        "        \r\n",
        "    print(compare(user1_answer, user2_answer))\r\n",
        "    Repeat = input(\"Would you like to play again?\")\r\n",
        "    if Repeat == \"yes\":\r\n",
        "     main()\r\n",
        "    else:\r\n",
        "     print(\"Bye\")\r\n",
        "     exit()\r\n",
        "main()\r\n"
      ],
      "execution_count": null,
      "outputs": []
    }
  ]
}