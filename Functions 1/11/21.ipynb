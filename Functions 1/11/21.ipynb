{
  "nbformat": 4,
  "nbformat_minor": 0,
  "metadata": {
    "colab": {
      "name": "Copy of Functions 1/11/21",
      "provenance": [],
      "collapsed_sections": [],
      "authorship_tag": "ABX9TyMA8+y1alJaAIoYa9mssdpy",
      "include_colab_link": true
    },
    "kernelspec": {
      "name": "python3",
      "display_name": "Python 3"
    }
  },
  "cells": [
    {
      "cell_type": "markdown",
      "metadata": {
        "id": "view-in-github",
        "colab_type": "text"
      },
      "source": [
        "<a href=\"https://colab.research.google.com/github/Neopsychgnoesis/Data_Analytics/blob/Neopsychgnoesis-patch-1/Functions%201/11/21.ipynb\" target=\"_parent\"><img src=\"https://colab.research.google.com/assets/colab-badge.svg\" alt=\"Open In Colab\"/></a>"
      ]
    },
    {
      "cell_type": "code",
      "metadata": {
        "colab": {
          "base_uri": "https://localhost:8080/"
        },
        "id": "yUjicwgCzDBq",
        "outputId": "a78d6853-5d37-400b-ffff-bf98a7a9c8f0"
      },
      "source": [
        "def greeting_2(first_name, last_name):\r\n",
        "  \"\"\"This Function displays a greeting\"\"\"\r\n",
        "  print(\"Hello there, \" + first_name + \" \" + last_name)\r\n",
        "\r\n",
        "greeting_2('Paul', 'John')"
      ],
      "execution_count": null,
      "outputs": [
        {
          "output_type": "stream",
          "text": [
            "Hello there, Paul John\n"
          ],
          "name": "stdout"
        }
      ]
    },
    {
      "cell_type": "code",
      "metadata": {
        "colab": {
          "base_uri": "https://localhost:8080/"
        },
        "id": "e_WuHnyJ0hih",
        "outputId": "46908ea6-7a31-4495-a25a-913e13338953"
      },
      "source": [
        "def greeting_2 (first_name, last_name, age):\r\n",
        "  print(\"My name is \" + first_name + \" \" + last_name)\r\n",
        "  print(\"I am \" + str(age) + \", years old\")\r\n",
        "\r\n",
        "greeting_2('Paul', 'John', 43)\r\n",
        "greeting_2('Sparky','Jack', 76)"
      ],
      "execution_count": null,
      "outputs": [
        {
          "output_type": "stream",
          "text": [
            "My name is Paul John\n",
            "I am 43, years old\n",
            "My name is Sparky Jack\n",
            "I am 76, years old\n"
          ],
          "name": "stdout"
        }
      ]
    },
    {
      "cell_type": "code",
      "metadata": {
        "colab": {
          "base_uri": "https://localhost:8080/"
        },
        "id": "SJ6Ohh1m2XQ5",
        "outputId": "f9bee414-6d47-429a-94ee-257d111ed9bb"
      },
      "source": [
        "def location (city,country):\r\n",
        "  print(\"I live in \" + city + \", \" + country + \".\")\r\n",
        "\r\n",
        "location('New York', 'USA')\r\n",
        "location(country = \"USA\", city = \"New Jersey\")\r\n",
        "location(\"Florida\", 'USA')"
      ],
      "execution_count": null,
      "outputs": [
        {
          "output_type": "stream",
          "text": [
            "I live in New York, USA.\n",
            "I live in New Jersey, USA.\n",
            "I live in Florida, USA.\n"
          ],
          "name": "stdout"
        }
      ]
    }
  ]
}