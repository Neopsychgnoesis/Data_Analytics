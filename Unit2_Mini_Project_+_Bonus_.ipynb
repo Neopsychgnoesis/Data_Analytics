{
  "nbformat": 4,
  "nbformat_minor": 0,
  "metadata": {
    "colab": {
      "name": "Unit2_Mini_Project + Bonus .ipynb",
      "provenance": [],
      "collapsed_sections": [],
      "include_colab_link": true
    },
    "kernelspec": {
      "name": "python3",
      "display_name": "Python 3"
    }
  },
  "cells": [
    {
      "cell_type": "markdown",
      "metadata": {
        "id": "view-in-github",
        "colab_type": "text"
      },
      "source": [
        "<a href=\"https://colab.research.google.com/github/Neopsychgnoesis/Data_Analytics/blob/Neopsychgnoesis-patch-1/Unit2_Mini_Project_%2B_Bonus_.ipynb\" target=\"_parent\"><img src=\"https://colab.research.google.com/assets/colab-badge.svg\" alt=\"Open In Colab\"/></a>"
      ]
    },
    {
      "cell_type": "code",
      "metadata": {
        "colab": {
          "base_uri": "https://localhost:8080/"
        },
        "id": "9OlMnZVTPGBQ",
        "outputId": "921962a1-e24f-412f-a28e-e7a71be98bd6"
      },
      "source": [
        "def is_even(num):\r\n",
        "  if num %2 == 0:\r\n",
        "    return True\r\n",
        "num=int(input(\"Enter number:\"))\r\n",
        "if num % 4 == 0 and num % 2 == 0:\r\n",
        "  print (\"This is even and a multiple of 4\")\r\n",
        "elif num % 2 == 0:\r\n",
        "  print (\"The number is even\", num)\r\n",
        "  print (\"The number is odd\", num)\r\n",
        "num = input('Please enter a number: ')\r\n",
        "check = input('Please enter a number to divide by: ')\r\n",
        "if int(num) % int(check) == 0:\r\n",
        "  print('The number you entered: ' + num + ' divides evenly by :' + check)\r\n",
        "else:\r\n",
        "  print('The number you entered: ' + num + ' does not divide evenly by :' + check)\r\n"
      ],
      "execution_count": 1,
      "outputs": [
        {
          "output_type": "stream",
          "text": [
            "Enter number:12\n",
            "This is even and a multiple of 4\n",
            "Please enter a number: 12\n",
            "Please enter a number to divide by: 4\n",
            "The number you entered: 12 divides evenly by :4\n"
          ],
          "name": "stdout"
        }
      ]
    },
    {
      "cell_type": "code",
      "metadata": {
        "id": "aRpLkV9wkzxY"
      },
      "source": [
        "def main():\r\n",
        "    import sys\r\n",
        "    user1 = input(\"What's your name?\")\r\n",
        "    user2 = input(\"And your name?\")\r\n",
        "    user1_answer = input(\"%s, do yo want to choose rock, paper or scissors?\" % user1)\r\n",
        "    user2_answer = input(\"%s, do you want to choose rock, paper or scissors?\" % user2)\r\n",
        "    \r\n",
        "    def compare(u1, u2):\r\n",
        "        if u1 == u2:\r\n",
        "            return(\"It's a tie!\")\r\n",
        "        elif u1 == 'rock':\r\n",
        "            if u2 == 'scissors':\r\n",
        "                return(\"Rock wins!\")\r\n",
        "            else:\r\n",
        "                return(\"Paper wins!\")\r\n",
        "        elif u1 == 'scissors':\r\n",
        "            if u2 == 'paper':\r\n",
        "                return(\"Scissors win!\")\r\n",
        "            else:\r\n",
        "                return(\"Rock wins!\")\r\n",
        "        elif u1 == 'paper':\r\n",
        "            if u2 == 'rock':\r\n",
        "                return(\"Paper wins!\")\r\n",
        "            else:\r\n",
        "                return(\"Scissors win!\")\r\n",
        "        else:\r\n",
        "            return(\"Invalid input! You have not entered rock, paper or scissors, try again.\")\r\n",
        "            sys.exit()\r\n",
        "        \r\n",
        "    print(compare(user1_answer, user2_answer))\r\n",
        "    Repeat = input(\"Would you like to play again?\")\r\n",
        "    if Repeat == \"yes\":\r\n",
        "     main()\r\n",
        "    else:\r\n",
        "     print(\"Bye\")\r\n",
        "     exit()\r\n",
        "main()"
      ],
      "execution_count": null,
      "outputs": []
    }
  ]
}