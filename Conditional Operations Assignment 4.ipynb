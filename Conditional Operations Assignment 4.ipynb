{
  "nbformat": 4,
  "nbformat_minor": 0,
  "metadata": {
    "colab": {
      "name": "Conditional Operations Assignment 4.ipynb",
      "provenance": [],
      "collapsed_sections": [],
      "toc_visible": true,
      "include_colab_link": true
    },
    "kernelspec": {
      "name": "python3",
      "display_name": "Python 3"
    }
  },
  "cells": [
    {
      "cell_type": "markdown",
      "metadata": {
        "id": "view-in-github",
        "colab_type": "text"
      },
      "source": [
        "<a href=\"https://colab.research.google.com/github/Neopsychgnoesis/Data_Analytics/blob/Neopsychgnoesis-patch-1/Conditional%20Operations%20Assignment%204.ipynb\" target=\"_parent\"><img src=\"https://colab.research.google.com/assets/colab-badge.svg\" alt=\"Open In Colab\"/></a>"
      ]
    },
    {
      "cell_type": "markdown",
      "metadata": {
        "id": "Vgs8Kp4TidFQ"
      },
      "source": [
        "# Intrdouction to Python - Conditional Operations Assignment #4\r\n",
        "\r\n",
        "## If-elif-else Statements "
      ]
    },
    {
      "cell_type": "markdown",
      "metadata": {
        "id": "_Hq7Ny79iwgD"
      },
      "source": [
        "## 1.\tMake a list of 5 or more usernames, including an admin account.  Imagine you are writing code that will welcome people to your application on login. Loop through the list and print your greeting.\r\n",
        "\r\n",
        "a.\tIf the admin account logs in, give them a special greeting.  They’re the admin, after all!\r\n",
        "\r\n",
        "b.\tOther users can get the generic greeting\r\n",
        "\r\n"
      ]
    },
    {
      "cell_type": "code",
      "metadata": {
        "id": "lotvpVpvlKsR",
        "colab": {
          "base_uri": "https://localhost:8080/"
        },
        "outputId": "fe5df212-a644-4e8e-8f74-661d4c5068ce"
      },
      "source": [
        "DataClublist = ['Admin', 'Amy', 'Lucy', 'Anna', 'Nadia']\r\n",
        "print(DataClublist)\r\n",
        "for members in DataClublist:\r\n",
        "  print(members.title() + \" Welcome to Data analytics!\\n I enjoy learning with \" + members.upper() + \" all winter long.\\n\")\r\n",
        "  if members == 'Admin':\r\n",
        "    print(\"Greetings Commander!\")\r\n",
        "  if members != 'Admin':\r\n",
        "    print(\"Welcome back!\")"
      ],
      "execution_count": null,
      "outputs": [
        {
          "output_type": "stream",
          "text": [
            "['Admin', 'Amy', 'Lucy', 'Anna', 'Nadia']\n",
            "Admin Welcome to Data analytics!\n",
            " I enjoy learning with ADMIN all winter long.\n",
            "\n",
            "Greetings Commander!\n",
            "Amy Welcome to Data analytics!\n",
            " I enjoy learning with AMY all winter long.\n",
            "\n",
            "Welcome back!\n",
            "Lucy Welcome to Data analytics!\n",
            " I enjoy learning with LUCY all winter long.\n",
            "\n",
            "Welcome back!\n",
            "Anna Welcome to Data analytics!\n",
            " I enjoy learning with ANNA all winter long.\n",
            "\n",
            "Welcome back!\n",
            "Nadia Welcome to Data analytics!\n",
            " I enjoy learning with NADIA all winter long.\n",
            "\n",
            "Welcome back!\n"
          ],
          "name": "stdout"
        }
      ]
    },
    {
      "cell_type": "markdown",
      "metadata": {
        "id": "io_27RSlizno"
      },
      "source": [
        "## 2.\tStore numbers 1-10 in a list\r\n",
        "\r\n",
        "a.\tLoop through the list\r\n",
        "\r\n",
        "b.\tUse an if-elif-else chain inside your loop to print the ordinal ending for each number – for example – 1st, 2nd, 3rd … etc.\r\n",
        "\r\n"
      ]
    },
    {
      "cell_type": "code",
      "metadata": {
        "id": "Dh1o5cAylSHB",
        "colab": {
          "base_uri": "https://localhost:8080/"
        },
        "outputId": "67225494-6723-4a6f-958e-3ebde45166b6"
      },
      "source": [
        "numbers = list (range(1,11))\r\n",
        "for number in numbers:\r\n",
        "    if number == 1:\r\n",
        "        print(\"1st\")\r\n",
        "    elif number == 2:\r\n",
        "        print(\"2nd\")\r\n",
        "    elif number == 3:\r\n",
        "        print(\"3rd\")\r\n",
        "    else:\r\n",
        "        print(str(number) + \"th\")\r\n",
        "\r\n",
        "\r\n"
      ],
      "execution_count": null,
      "outputs": [
        {
          "output_type": "stream",
          "text": [
            "1st\n",
            "2nd\n",
            "3rd\n",
            "4th\n",
            "5th\n",
            "6th\n",
            "7th\n",
            "8th\n",
            "9th\n",
            "10th\n"
          ],
          "name": "stdout"
        }
      ]
    }
  ]
}