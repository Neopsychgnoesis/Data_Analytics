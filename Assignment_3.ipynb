{
  "nbformat": 4,
  "nbformat_minor": 0,
  "metadata": {
    "colab": {
      "name": "Assignment #3 ",
      "provenance": [],
      "collapsed_sections": [],
      "toc_visible": true,
      "include_colab_link": true
    },
    "kernelspec": {
      "name": "python3",
      "display_name": "Python 3"
    }
  },
  "cells": [
    {
      "cell_type": "markdown",
      "metadata": {
        "id": "view-in-github",
        "colab_type": "text"
      },
      "source": [
        "<a href=\"https://colab.research.google.com/github/Neopsychgnoesis/Data_Analytics/blob/Neopsychgnoesis-patch-1/Assignment_3.ipynb\" target=\"_parent\"><img src=\"https://colab.research.google.com/assets/colab-badge.svg\" alt=\"Open In Colab\"/></a>"
      ]
    },
    {
      "cell_type": "markdown",
      "metadata": {
        "id": "Vgs8Kp4TidFQ"
      },
      "source": [
        "# Introduction to Python - Loop - Assignment #3 "
      ]
    },
    {
      "cell_type": "markdown",
      "metadata": {
        "id": "_Hq7Ny79iwgD"
      },
      "source": [
        "## 1. Create a list that holds 5 data variables. "
      ]
    },
    {
      "cell_type": "code",
      "metadata": {
        "id": "lotvpVpvlKsR"
      },
      "source": [
        "fruitstoeat = ['apples', 'bananas', 'figs', 'grapes', 'kiwi', 'mangoes']"
      ],
      "execution_count": null,
      "outputs": []
    },
    {
      "cell_type": "markdown",
      "metadata": {
        "id": "io_27RSlizno"
      },
      "source": [
        "## 2.\tPrint out those variables by using a for loop"
      ]
    },
    {
      "cell_type": "code",
      "metadata": {
        "id": "Dh1o5cAylSHB",
        "colab": {
          "base_uri": "https://localhost:8080/"
        },
        "outputId": "920d4422-862e-4fd2-c3ab-f136d46be15b"
      },
      "source": [
        "fruitstoeat = ['apples', 'bananas', 'figs', 'grapes', 'kiwi', 'mangoes']\r\n",
        "print(fruitstoeat)\r\n",
        "for fruits in fruitstoeat:\r\n",
        "  print(fruitstoeat)"
      ],
      "execution_count": null,
      "outputs": [
        {
          "output_type": "stream",
          "text": [
            "['apples', 'bananas', 'figs', 'grapes', 'kiwi', 'mangoes']\n",
            "['apples', 'bananas', 'figs', 'grapes', 'kiwi', 'mangoes']\n",
            "['apples', 'bananas', 'figs', 'grapes', 'kiwi', 'mangoes']\n",
            "['apples', 'bananas', 'figs', 'grapes', 'kiwi', 'mangoes']\n",
            "['apples', 'bananas', 'figs', 'grapes', 'kiwi', 'mangoes']\n",
            "['apples', 'bananas', 'figs', 'grapes', 'kiwi', 'mangoes']\n",
            "['apples', 'bananas', 'figs', 'grapes', 'kiwi', 'mangoes']\n"
          ],
          "name": "stdout"
        }
      ]
    },
    {
      "cell_type": "markdown",
      "metadata": {
        "id": "DAW8m8IQjRyR"
      },
      "source": [
        "## 3.\tModify your for loop to add a message to your for loop."
      ]
    },
    {
      "cell_type": "code",
      "metadata": {
        "id": "guULMEhrjYtT",
        "colab": {
          "base_uri": "https://localhost:8080/"
        },
        "outputId": "059b2f7f-4b1a-435d-f080-8d6cd504d19c"
      },
      "source": [
        "fruitstoeat = ['apples', 'bananas', 'figs', 'grapes', 'kiwi', 'mangoes']\r\n",
        "print(fruitstoeat)\r\n",
        "for fruits in fruitstoeat:\r\n",
        "  print(fruits + \" is one of my favorite fruits to eat!\")"
      ],
      "execution_count": null,
      "outputs": [
        {
          "output_type": "stream",
          "text": [
            "['apples', 'bananas', 'figs', 'grapes', 'kiwi', 'mangoes']\n",
            "apples is one of my favorite fruits to eat!\n",
            "bananas is one of my favorite fruits to eat!\n",
            "figs is one of my favorite fruits to eat!\n",
            "grapes is one of my favorite fruits to eat!\n",
            "kiwi is one of my favorite fruits to eat!\n",
            "mangoes is one of my favorite fruits to eat!\n"
          ],
          "name": "stdout"
        }
      ]
    },
    {
      "cell_type": "markdown",
      "metadata": {
        "id": "dpa_YOt4jXyo"
      },
      "source": [
        "## 4.\tUse a for loop to print even numbers from 1-20."
      ]
    },
    {
      "cell_type": "code",
      "metadata": {
        "id": "ajsLZtmtq1pA",
        "colab": {
          "base_uri": "https://localhost:8080/"
        },
        "outputId": "1bb71e5c-3aa6-4d7a-c36f-9c7115732c04"
      },
      "source": [
        "numbers = list (range(1,21))\r\n",
        "even_nos = [num for num in numbers if num % 2 == 0]\r\n",
        "for numbers in numbers:\r\n",
        "  print(even_nos)"
      ],
      "execution_count": null,
      "outputs": [
        {
          "output_type": "stream",
          "text": [
            "[2, 4, 6, 8, 10, 12, 14, 16, 18, 20]\n",
            "[2, 4, 6, 8, 10, 12, 14, 16, 18, 20]\n",
            "[2, 4, 6, 8, 10, 12, 14, 16, 18, 20]\n",
            "[2, 4, 6, 8, 10, 12, 14, 16, 18, 20]\n",
            "[2, 4, 6, 8, 10, 12, 14, 16, 18, 20]\n",
            "[2, 4, 6, 8, 10, 12, 14, 16, 18, 20]\n",
            "[2, 4, 6, 8, 10, 12, 14, 16, 18, 20]\n",
            "[2, 4, 6, 8, 10, 12, 14, 16, 18, 20]\n",
            "[2, 4, 6, 8, 10, 12, 14, 16, 18, 20]\n",
            "[2, 4, 6, 8, 10, 12, 14, 16, 18, 20]\n",
            "[2, 4, 6, 8, 10, 12, 14, 16, 18, 20]\n",
            "[2, 4, 6, 8, 10, 12, 14, 16, 18, 20]\n",
            "[2, 4, 6, 8, 10, 12, 14, 16, 18, 20]\n",
            "[2, 4, 6, 8, 10, 12, 14, 16, 18, 20]\n",
            "[2, 4, 6, 8, 10, 12, 14, 16, 18, 20]\n",
            "[2, 4, 6, 8, 10, 12, 14, 16, 18, 20]\n",
            "[2, 4, 6, 8, 10, 12, 14, 16, 18, 20]\n",
            "[2, 4, 6, 8, 10, 12, 14, 16, 18, 20]\n",
            "[2, 4, 6, 8, 10, 12, 14, 16, 18, 20]\n",
            "[2, 4, 6, 8, 10, 12, 14, 16, 18, 20]\n"
          ],
          "name": "stdout"
        }
      ]
    },
    {
      "cell_type": "markdown",
      "metadata": {
        "id": "Ka84RGy4jmLT"
      },
      "source": [
        "## 5.\tSort your list in alphabetic order."
      ]
    },
    {
      "cell_type": "code",
      "metadata": {
        "id": "34IFFtK4jrg4",
        "colab": {
          "base_uri": "https://localhost:8080/"
        },
        "outputId": "1ff299a2-f4ae-4e12-f5cd-95da58fe015d"
      },
      "source": [
        "fruitstoeat = ['grapes', 'figs', 'bananas', 'apples', 'mangoes', 'kiwi']\r\n",
        "print(fruitstoeat)\r\n",
        "print(sorted(fruitstoeat))"
      ],
      "execution_count": null,
      "outputs": [
        {
          "output_type": "stream",
          "text": [
            "['grapes', 'figs', 'bananas', 'apples', 'mangoes', 'kiwi']\n",
            "['apples', 'bananas', 'figs', 'grapes', 'kiwi', 'mangoes']\n"
          ],
          "name": "stdout"
        }
      ]
    },
    {
      "cell_type": "markdown",
      "metadata": {
        "id": "ZKHwdMnLliFy"
      },
      "source": [
        "## 6.\tPrint out the first three elements of your list."
      ]
    },
    {
      "cell_type": "code",
      "metadata": {
        "id": "eXUDZfLOllTT",
        "colab": {
          "base_uri": "https://localhost:8080/"
        },
        "outputId": "a93eb290-121f-47d5-efe3-dd4b15b72ac6"
      },
      "source": [
        "fruitstoeat = ['grapes', 'figs', 'bananas', 'apples', 'mangoes', 'kiwi']\r\n",
        "print(fruitstoeat[:3])"
      ],
      "execution_count": null,
      "outputs": [
        {
          "output_type": "stream",
          "text": [
            "['grapes', 'figs', 'bananas']\n"
          ],
          "name": "stdout"
        }
      ]
    },
    {
      "cell_type": "markdown",
      "metadata": {
        "id": "oedkoLECmv6x"
      },
      "source": [
        "## 7.\tCreate a loop to print the last 2 elements of your list."
      ]
    },
    {
      "cell_type": "code",
      "metadata": {
        "id": "jjh2GdktllZY",
        "colab": {
          "base_uri": "https://localhost:8080/"
        },
        "outputId": "e0672a24-5544-4733-d63a-c7eeaebf7370"
      },
      "source": [
        "fruitstoeat = ['grapes', 'figs', 'bananas', 'apples', 'mangoes', 'kiwi']\r\n",
        "for fruits in fruitstoeat:\r\n",
        "  print(fruitstoeat[-2:])"
      ],
      "execution_count": null,
      "outputs": [
        {
          "output_type": "stream",
          "text": [
            "['mangoes', 'kiwi']\n",
            "['mangoes', 'kiwi']\n",
            "['mangoes', 'kiwi']\n",
            "['mangoes', 'kiwi']\n",
            "['mangoes', 'kiwi']\n",
            "['mangoes', 'kiwi']\n"
          ],
          "name": "stdout"
        }
      ]
    }
  ]
}