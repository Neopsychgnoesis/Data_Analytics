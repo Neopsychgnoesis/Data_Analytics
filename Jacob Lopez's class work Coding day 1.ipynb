{
  "nbformat": 4,
  "nbformat_minor": 0,
  "metadata": {
    "colab": {
      "name": "Untitled0.ipynb",
      "provenance": [],
      "collapsed_sections": []
    },
    "kernelspec": {
      "name": "python3",
      "display_name": "Python 3"
    }
  },
  "cells": [
    {
      "cell_type": "code",
      "metadata": {
        "colab": {
          "base_uri": "https://localhost:8080/"
        },
        "id": "jhwFkHzFJzUW",
        "outputId": "d09eb504-3e0c-40bc-d754-cf7c145f9f68"
      },
      "source": [
        "\"Hellow World\"\r\n",
        "print(\"Hello world\")"
      ],
      "execution_count": null,
      "outputs": [
        {
          "output_type": "stream",
          "text": [
            "Hello world\n"
          ],
          "name": "stdout"
        }
      ]
    },
    {
      "cell_type": "code",
      "metadata": {
        "colab": {
          "base_uri": "https://localhost:8080/"
        },
        "id": "Nq9nlcPEK_TP",
        "outputId": "92b28aa5-937c-4666-ea4f-11f99ef3e0bb"
      },
      "source": [
        "variableA = \"Hello world\"\r\n",
        "print(variableA)\r\n"
      ],
      "execution_count": null,
      "outputs": [
        {
          "output_type": "stream",
          "text": [
            "Hello world\n"
          ],
          "name": "stdout"
        }
      ]
    },
    {
      "cell_type": "code",
      "metadata": {
        "colab": {
          "base_uri": "https://localhost:8080/"
        },
        "id": "k6wN9Ez3MAYL",
        "outputId": "4ecb4b6f-3289-4d82-aedd-232b2edeb8ad"
      },
      "source": [
        "variableB = \"How is my portofolio doing today ?\"\r\n",
        "print(variableB)"
      ],
      "execution_count": null,
      "outputs": [
        {
          "output_type": "stream",
          "text": [
            "How is my portofolio doing today ?\n"
          ],
          "name": "stdout"
        }
      ]
    },
    {
      "cell_type": "code",
      "metadata": {
        "colab": {
          "base_uri": "https://localhost:8080/"
        },
        "id": "AUU56AfROUUg",
        "outputId": "fb67a54c-6a7d-4016-bb97-9a4a9e7aced8"
      },
      "source": [
        "school = \"Cuny laguardia\"\r\n",
        "print(school.upper())\r\n",
        "print(school.lower())"
      ],
      "execution_count": null,
      "outputs": [
        {
          "output_type": "stream",
          "text": [
            "CUNY LAGUARDIA\n",
            "cuny laguardia\n"
          ],
          "name": "stdout"
        }
      ]
    },
    {
      "cell_type": "code",
      "metadata": {
        "colab": {
          "base_uri": "https://localhost:8080/"
        },
        "id": "RTYfbgLqPdp9",
        "outputId": "62f3a77e-0c38-491b-a3f7-93c2ffc336a4"
      },
      "source": [
        "first_name = \"cuny\"\r\n",
        "last_name = \"laguardia\"\r\n",
        "full_name = first_name + \" \" + last_name\r\n",
        "print(full_name)"
      ],
      "execution_count": null,
      "outputs": [
        {
          "output_type": "stream",
          "text": [
            "cuny laguardia\n"
          ],
          "name": "stdout"
        }
      ]
    },
    {
      "cell_type": "code",
      "metadata": {
        "colab": {
          "base_uri": "https://localhost:8080/"
        },
        "id": "83IRr4EVSTfU",
        "outputId": "f23184a9-ae26-49c3-8790-1e2ea727babc"
      },
      "source": [
        "First_name = \"Smith \"\r\n",
        "last_name = \"mary\"\r\n",
        "print(\"Mary\")\r\n",
        "print(\"\\tSmith1\")\r\n",
        "print(\"\\nSmith\")"
      ],
      "execution_count": null,
      "outputs": [
        {
          "output_type": "stream",
          "text": [
            "Mary\n",
            "\tSmith1\n",
            "\n",
            "Smith\n"
          ],
          "name": "stdout"
        }
      ]
    },
    {
      "cell_type": "code",
      "metadata": {
        "colab": {
          "base_uri": "https://localhost:8080/",
          "height": 36
        },
        "id": "CUCGiuZATpTD",
        "outputId": "cabd8ca0-0270-45e5-c6dd-9a30adc250bb"
      },
      "source": [
        "extra_space = \"Patient_exam: ECG   \"\r\n",
        "extra_space\r\n"
      ],
      "execution_count": null,
      "outputs": [
        {
          "output_type": "execute_result",
          "data": {
            "application/vnd.google.colaboratory.intrinsic+json": {
              "type": "string"
            },
            "text/plain": [
              "'Patient_exam: ECG   '"
            ]
          },
          "metadata": {
            "tags": []
          },
          "execution_count": 33
        }
      ]
    },
    {
      "cell_type": "code",
      "metadata": {
        "colab": {
          "base_uri": "https://localhost:8080/",
          "height": 36
        },
        "id": "cMcBQg_YUQOH",
        "outputId": "f1675b9a-ed17-4d99-c25a-d5ad1d940950"
      },
      "source": [
        "extra_space.rstrip()"
      ],
      "execution_count": null,
      "outputs": [
        {
          "output_type": "execute_result",
          "data": {
            "application/vnd.google.colaboratory.intrinsic+json": {
              "type": "string"
            },
            "text/plain": [
              "'Patient_exam: ECG'"
            ]
          },
          "metadata": {
            "tags": []
          },
          "execution_count": 34
        }
      ]
    },
    {
      "cell_type": "code",
      "metadata": {
        "colab": {
          "base_uri": "https://localhost:8080/"
        },
        "id": "k-A-jgvLVDUn",
        "outputId": "dc6a0556-4d13-49ec-91db-101dc53dd8c8"
      },
      "source": [
        "variableA = \"Hi Anna How are ya ?\"\r\n",
        "print(variableA)"
      ],
      "execution_count": null,
      "outputs": [
        {
          "output_type": "stream",
          "text": [
            "Hi Anna How are ya ?\n"
          ],
          "name": "stdout"
        }
      ]
    },
    {
      "cell_type": "code",
      "metadata": {
        "colab": {
          "base_uri": "https://localhost:8080/"
        },
        "id": "irUd9XtbVc54",
        "outputId": "2a6923f5-ef3d-4442-f7cf-b9448c764990"
      },
      "source": [
        "first_name = \"Anna\"\r\n",
        "print(first_name.upper())\r\n",
        "print(first_name.lower())"
      ],
      "execution_count": null,
      "outputs": [
        {
          "output_type": "stream",
          "text": [
            "ANNA\n",
            "anna\n"
          ],
          "name": "stdout"
        }
      ]
    },
    {
      "cell_type": "code",
      "metadata": {
        "colab": {
          "base_uri": "https://localhost:8080/"
        },
        "id": "yPK6H5kLZUIT",
        "outputId": "0a97c493-b33e-4748-b181-44d0f0c4268d"
      },
      "source": [
        "4+4 \r\n"
      ],
      "execution_count": 5,
      "outputs": [
        {
          "output_type": "execute_result",
          "data": {
            "text/plain": [
              "8"
            ]
          },
          "metadata": {
            "tags": []
          },
          "execution_count": 5
        }
      ]
    },
    {
      "cell_type": "code",
      "metadata": {
        "colab": {
          "base_uri": "https://localhost:8080/"
        },
        "id": "y3Ylmq1yZ6US",
        "outputId": "efe6ec9d-4c3d-4717-af6e-7c916298fc83"
      },
      "source": [
        "4*2"
      ],
      "execution_count": 6,
      "outputs": [
        {
          "output_type": "execute_result",
          "data": {
            "text/plain": [
              "8"
            ]
          },
          "metadata": {
            "tags": []
          },
          "execution_count": 6
        }
      ]
    },
    {
      "cell_type": "code",
      "metadata": {
        "colab": {
          "base_uri": "https://localhost:8080/"
        },
        "id": "datyr6KOZ9i9",
        "outputId": "7daa8196-d577-469a-fa6e-6c05d1a33445"
      },
      "source": [
        "16/2"
      ],
      "execution_count": 7,
      "outputs": [
        {
          "output_type": "execute_result",
          "data": {
            "text/plain": [
              "8.0"
            ]
          },
          "metadata": {
            "tags": []
          },
          "execution_count": 7
        }
      ]
    },
    {
      "cell_type": "code",
      "metadata": {
        "colab": {
          "base_uri": "https://localhost:8080/"
        },
        "id": "DQs-0y5daAZs",
        "outputId": "312e13fb-8b50-47c5-9c7e-eb2d0bdb9bdc"
      },
      "source": [
        "10-2"
      ],
      "execution_count": 8,
      "outputs": [
        {
          "output_type": "execute_result",
          "data": {
            "text/plain": [
              "8"
            ]
          },
          "metadata": {
            "tags": []
          },
          "execution_count": 8
        }
      ]
    },
    {
      "cell_type": "code",
      "metadata": {
        "colab": {
          "base_uri": "https://localhost:8080/"
        },
        "id": "0e0WGewPaDSK",
        "outputId": "55024aa2-3975-49d3-8402-4f1bc570ed74"
      },
      "source": [
        "age = 27 \r\n",
        "message = \"Happy \" + str(age) + \"rd Birthday!\"\r\n",
        "print(message)"
      ],
      "execution_count": 9,
      "outputs": [
        {
          "output_type": "stream",
          "text": [
            "Happy 27rd Birthday!\n"
          ],
          "name": "stdout"
        }
      ]
    }
  ]
}